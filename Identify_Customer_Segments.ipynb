{
 "cells": [
  {
   "cell_type": "markdown",
   "metadata": {},
   "source": [
    "# Project: Identify Customer Segments\n",
    "\n",
    "In this project, you will apply unsupervised learning techniques to identify segments of the population that form the core customer base for a mail-order sales company in Germany. These segments can then be used to direct marketing campaigns towards audiences that will have the highest expected rate of returns. The data that you will use has been provided by our partners at Bertelsmann Arvato Analytics, and represents a real-life data science task.\n",
    "\n",
    "This notebook will help you complete this task by providing a framework within which you will perform your analysis steps. In each step of the project, you will see some text describing the subtask that you will perform, followed by one or more code cells for you to complete your work. **Feel free to add additional code and markdown cells as you go along so that you can explore everything in precise chunks.** The code cells provided in the base template will outline only the major tasks, and will usually not be enough to cover all of the minor tasks that comprise it.\n",
    "\n",
    "It should be noted that while there will be precise guidelines on how you should handle certain tasks in the project, there will also be places where an exact specification is not provided. **There will be times in the project where you will need to make and justify your own decisions on how to treat the data.** These are places where there may not be only one way to handle the data. In real-life tasks, there may be many valid ways to approach an analysis task. One of the most important things you can do is clearly document your approach so that other scientists can understand the decisions you've made.\n",
    "\n",
    "At the end of most sections, there will be a Markdown cell labeled **Discussion**. In these cells, you will report your findings for the completed section, as well as document the decisions that you made in your approach to each subtask. **Your project will be evaluated not just on the code used to complete the tasks outlined, but also your communication about your observations and conclusions at each stage.**"
   ]
  },
  {
   "cell_type": "code",
   "execution_count": 72,
   "metadata": {},
   "outputs": [],
   "source": [
    "# import libraries here; add more as necessary\n",
    "import numpy as np\n",
    "import pandas as pd\n",
    "import matplotlib.pyplot as plt\n",
    "import seaborn as sns\n",
    "\n",
    "# magic word for producing visualizations in notebook\n",
    "%matplotlib inline"
   ]
  },
  {
   "cell_type": "markdown",
   "metadata": {},
   "source": [
    "### Step 0: Load the Data\n",
    "\n",
    "There are four files associated with this project (not including this one):\n",
    "\n",
    "- `Udacity_AZDIAS_Subset.csv`: Demographics data for the general population of Germany; 891211 persons (rows) x 85 features (columns).\n",
    "- `Udacity_CUSTOMERS_Subset.csv`: Demographics data for customers of a mail-order company; 191652 persons (rows) x 85 features (columns).\n",
    "- `Data_Dictionary.md`: Detailed information file about the features in the provided datasets.\n",
    "- `AZDIAS_Feature_Summary.csv`: Summary of feature attributes for demographics data; 85 features (rows) x 4 columns\n",
    "\n",
    "Each row of the demographics files represents a single person, but also includes information outside of individuals, including information about their household, building, and neighborhood. You will use this information to cluster the general population into groups with similar demographic properties. Then, you will see how the people in the customers dataset fit into those created clusters. The hope here is that certain clusters are over-represented in the customers data, as compared to the general population; those over-represented clusters will be assumed to be part of the core userbase. This information can then be used for further applications, such as targeting for a marketing campaign.\n",
    "\n",
    "To start off with, load in the demographics data for the general population into a pandas DataFrame, and do the same for the feature attributes summary. Note for all of the `.csv` data files in this project: they're semicolon (`;`) delimited, so you'll need an additional argument in your [`read_csv()`](https://pandas.pydata.org/pandas-docs/stable/generated/pandas.read_csv.html) call to read in the data properly. Also, considering the size of the main dataset, it may take some time for it to load completely.\n",
    "\n",
    "Once the dataset is loaded, it's recommended that you take a little bit of time just browsing the general structure of the dataset and feature summary file. You'll be getting deep into the innards of the cleaning in the first major step of the project, so gaining some general familiarity can help you get your bearings."
   ]
  },
  {
   "cell_type": "code",
   "execution_count": 73,
   "metadata": {},
   "outputs": [],
   "source": [
    "# Load in the general demographics data.\n",
    "azdias = pd.read_csv(\"Udacity_AZDIAS_Subset.csv\", sep=\";\")\n",
    "\n",
    "# Load in the feature summary file.\n",
    "feat_info = pd.read_csv(\"AZDIAS_Feature_Summary.csv\", sep=\";\")"
   ]
  },
  {
   "cell_type": "code",
   "execution_count": 74,
   "metadata": {
    "scrolled": false
   },
   "outputs": [
    {
     "name": "stdout",
     "output_type": "stream",
     "text": [
      "(891221, 85)\n",
      "   AGER_TYP  ALTERSKATEGORIE_GROB  ANREDE_KZ  CJT_GESAMTTYP  \\\n",
      "0        -1                     2          1            2.0   \n",
      "1        -1                     1          2            5.0   \n",
      "2        -1                     3          2            3.0   \n",
      "3         2                     4          2            2.0   \n",
      "4        -1                     3          1            5.0   \n",
      "\n",
      "   FINANZ_MINIMALIST  FINANZ_SPARER  FINANZ_VORSORGER  FINANZ_ANLEGER  \\\n",
      "0                  3              4                 3               5   \n",
      "1                  1              5                 2               5   \n",
      "2                  1              4                 1               2   \n",
      "3                  4              2                 5               2   \n",
      "4                  4              3                 4               1   \n",
      "\n",
      "   FINANZ_UNAUFFAELLIGER  FINANZ_HAUSBAUER    ...     PLZ8_ANTG1  PLZ8_ANTG2  \\\n",
      "0                      5                 3    ...            NaN         NaN   \n",
      "1                      4                 5    ...            2.0         3.0   \n",
      "2                      3                 5    ...            3.0         3.0   \n",
      "3                      1                 2    ...            2.0         2.0   \n",
      "4                      3                 2    ...            2.0         4.0   \n",
      "\n",
      "   PLZ8_ANTG3  PLZ8_ANTG4  PLZ8_BAUMAX  PLZ8_HHZ  PLZ8_GBZ  ARBEIT  \\\n",
      "0         NaN         NaN          NaN       NaN       NaN     NaN   \n",
      "1         2.0         1.0          1.0       5.0       4.0     3.0   \n",
      "2         1.0         0.0          1.0       4.0       4.0     3.0   \n",
      "3         2.0         0.0          1.0       3.0       4.0     2.0   \n",
      "4         2.0         1.0          2.0       3.0       3.0     4.0   \n",
      "\n",
      "   ORTSGR_KLS9  RELAT_AB  \n",
      "0          NaN       NaN  \n",
      "1          5.0       4.0  \n",
      "2          5.0       2.0  \n",
      "3          3.0       3.0  \n",
      "4          6.0       5.0  \n",
      "\n",
      "[5 rows x 85 columns]\n"
     ]
    }
   ],
   "source": [
    "# Check the structure of the data after it's loaded (e.g. print the number of\n",
    "# rows and columns, print the first few rows).\n",
    "\n",
    "print(azdias.shape)\n",
    "print(azdias.head())"
   ]
  },
  {
   "cell_type": "markdown",
   "metadata": {},
   "source": [
    "> **Tip**: Add additional cells to keep everything in reasonably-sized chunks! Keyboard shortcut `esc --> a` (press escape to enter command mode, then press the 'A' key) adds a new cell before the active cell, and `esc --> b` adds a new cell after the active cell. If you need to convert an active cell to a markdown cell, use `esc --> m` and to convert to a code cell, use `esc --> y`. \n",
    "\n",
    "## Step 1: Preprocessing\n",
    "\n",
    "### Step 1.1: Assess Missing Data\n",
    "\n",
    "The feature summary file contains a summary of properties for each demographics data column. You will use this file to help you make cleaning decisions during this stage of the project. First of all, you should assess the demographics data in terms of missing data. Pay attention to the following points as you perform your analysis, and take notes on what you observe. Make sure that you fill in the **Discussion** cell with your findings and decisions at the end of each step that has one!\n",
    "\n",
    "#### Step 1.1.1: Convert Missing Value Codes to NaNs\n",
    "The fourth column of the feature attributes summary (loaded in above as `feat_info`) documents the codes from the data dictionary that indicate missing or unknown data. While the file encodes this as a list (e.g. `[-1,0]`), this will get read in as a string object. You'll need to do a little bit of parsing to make use of it to identify and clean the data. Convert data that matches a 'missing' or 'unknown' value code into a numpy NaN value. You might want to see how much data takes on a 'missing' or 'unknown' code, and how much data is naturally missing, as a point of interest.\n",
    "\n",
    "**As one more reminder, you are encouraged to add additional cells to break up your analysis into manageable chunks.**"
   ]
  },
  {
   "cell_type": "code",
   "execution_count": 75,
   "metadata": {},
   "outputs": [
    {
     "name": "stdout",
     "output_type": "stream",
     "text": [
      "                attribute information_level         type missing_or_unknown\n",
      "0                AGER_TYP            person  categorical             [-1,0]\n",
      "1    ALTERSKATEGORIE_GROB            person      ordinal           [-1,0,9]\n",
      "2               ANREDE_KZ            person  categorical             [-1,0]\n",
      "3           CJT_GESAMTTYP            person  categorical                [0]\n",
      "4       FINANZ_MINIMALIST            person      ordinal               [-1]\n",
      "5           FINANZ_SPARER            person      ordinal               [-1]\n",
      "6        FINANZ_VORSORGER            person      ordinal               [-1]\n",
      "7          FINANZ_ANLEGER            person      ordinal               [-1]\n",
      "8   FINANZ_UNAUFFAELLIGER            person      ordinal               [-1]\n",
      "9        FINANZ_HAUSBAUER            person      ordinal               [-1]\n",
      "10              FINANZTYP            person  categorical               [-1]\n",
      "11            GEBURTSJAHR            person      numeric                [0]\n",
      "12        GFK_URLAUBERTYP            person  categorical                 []\n",
      "13       GREEN_AVANTGARDE            person  categorical                 []\n",
      "14             HEALTH_TYP            person      ordinal             [-1,0]\n",
      "15    LP_LEBENSPHASE_FEIN            person        mixed                [0]\n",
      "16    LP_LEBENSPHASE_GROB            person        mixed                [0]\n",
      "17        LP_FAMILIE_FEIN            person  categorical                [0]\n",
      "18        LP_FAMILIE_GROB            person  categorical                [0]\n",
      "19         LP_STATUS_FEIN            person  categorical                [0]\n",
      "20         LP_STATUS_GROB            person  categorical                [0]\n",
      "21       NATIONALITAET_KZ            person  categorical             [-1,0]\n",
      "22  PRAEGENDE_JUGENDJAHRE            person        mixed             [-1,0]\n",
      "23         RETOURTYP_BK_S            person      ordinal                [0]\n",
      "24              SEMIO_SOZ            person      ordinal             [-1,9]\n",
      "25              SEMIO_FAM            person      ordinal             [-1,9]\n",
      "26              SEMIO_REL            person      ordinal             [-1,9]\n",
      "27              SEMIO_MAT            person      ordinal             [-1,9]\n",
      "28             SEMIO_VERT            person      ordinal             [-1,9]\n",
      "29             SEMIO_LUST            person      ordinal             [-1,9]\n",
      "..                    ...               ...          ...                ...\n",
      "55            OST_WEST_KZ          building  categorical               [-1]\n",
      "56               WOHNLAGE          building        mixed               [-1]\n",
      "57        CAMEO_DEUG_2015     microcell_rr4  categorical             [-1,X]\n",
      "58         CAMEO_DEU_2015     microcell_rr4  categorical               [XX]\n",
      "59        CAMEO_INTL_2015     microcell_rr4        mixed            [-1,XX]\n",
      "60            KBA05_ANTG1     microcell_rr3      ordinal               [-1]\n",
      "61            KBA05_ANTG2     microcell_rr3      ordinal               [-1]\n",
      "62            KBA05_ANTG3     microcell_rr3      ordinal               [-1]\n",
      "63            KBA05_ANTG4     microcell_rr3      ordinal               [-1]\n",
      "64           KBA05_BAUMAX     microcell_rr3        mixed             [-1,0]\n",
      "65              KBA05_GBZ     microcell_rr3      ordinal             [-1,0]\n",
      "66               BALLRAUM          postcode      ordinal               [-1]\n",
      "67               EWDICHTE          postcode      ordinal               [-1]\n",
      "68             INNENSTADT          postcode      ordinal               [-1]\n",
      "69     GEBAEUDETYP_RASTER        region_rr1      ordinal                 []\n",
      "70                    KKK        region_rr1      ordinal             [-1,0]\n",
      "71             MOBI_REGIO        region_rr1      ordinal                 []\n",
      "72      ONLINE_AFFINITAET        region_rr1      ordinal                 []\n",
      "73               REGIOTYP        region_rr1      ordinal             [-1,0]\n",
      "74       KBA13_ANZAHL_PKW    macrocell_plz8      numeric                 []\n",
      "75             PLZ8_ANTG1    macrocell_plz8      ordinal               [-1]\n",
      "76             PLZ8_ANTG2    macrocell_plz8      ordinal               [-1]\n",
      "77             PLZ8_ANTG3    macrocell_plz8      ordinal               [-1]\n",
      "78             PLZ8_ANTG4    macrocell_plz8      ordinal               [-1]\n",
      "79            PLZ8_BAUMAX    macrocell_plz8        mixed             [-1,0]\n",
      "80               PLZ8_HHZ    macrocell_plz8      ordinal               [-1]\n",
      "81               PLZ8_GBZ    macrocell_plz8      ordinal               [-1]\n",
      "82                 ARBEIT         community      ordinal             [-1,9]\n",
      "83            ORTSGR_KLS9         community      ordinal             [-1,0]\n",
      "84               RELAT_AB         community      ordinal             [-1,9]\n",
      "\n",
      "[85 rows x 4 columns]\n"
     ]
    }
   ],
   "source": [
    "# Identify missing or unknown data values and convert them to NaNs.\n",
    "\n",
    "print(feat_info)"
   ]
  },
  {
   "cell_type": "code",
   "execution_count": 76,
   "metadata": {},
   "outputs": [
    {
     "name": "stdout",
     "output_type": "stream",
     "text": [
      "NaN Conversion Done!\n"
     ]
    }
   ],
   "source": [
    "azdias_NaN = pd.DataFrame(data=azdias)\n",
    "\n",
    "for index, row in feat_info.iterrows():\n",
    "    strArr = row['missing_or_unknown'][1:-1].split(\",\")\n",
    "\n",
    "    for index2 in range(len(strArr)):\n",
    "        finalID = strArr[index2]\n",
    "        \n",
    "        if finalID == \"\":\n",
    "            finalID = False\n",
    "#         elif azdias_NaN[row['attribute']].dtype == \"float64\":\n",
    "#             finalID = np.float64(finalID)\n",
    "#         elif azdias_NaN[row['attribute']].dtype == 'int64':\n",
    "#             finalID = np.int64(finalID)\n",
    "        elif finalID != \"X\" and finalID != \"XX\":\n",
    "            finalID = np.float64(finalID)\n",
    "        \n",
    "        if finalID:\n",
    "            azdias_NaN[row['attribute']] = azdias_NaN[row['attribute']].replace(finalID, np.nan)\n",
    "\n",
    "print(\"NaN Conversion Done!\")"
   ]
  },
  {
   "cell_type": "code",
   "execution_count": 77,
   "metadata": {},
   "outputs": [],
   "source": [
    "# print(azdias_noNaN['CAMEO_DEUG_2015'].unique())"
   ]
  },
  {
   "cell_type": "markdown",
   "metadata": {},
   "source": [
    "#### Step 1.1.2: Assess Missing Data in Each Column\n",
    "\n",
    "How much missing data is present in each column? There are a few columns that are outliers in terms of the proportion of values that are missing. You will want to use matplotlib's [`hist()`](https://matplotlib.org/api/_as_gen/matplotlib.pyplot.hist.html) function to visualize the distribution of missing value counts to find these columns. Identify and document these columns. While some of these columns might have justifications for keeping or re-encoding the data, for this project you should just remove them from the dataframe. (Feel free to make remarks about these outlier columns in the discussion, however!)\n",
    "\n",
    "For the remaining features, are there any patterns in which columns have, or share, missing data?"
   ]
  },
  {
   "cell_type": "code",
   "execution_count": 78,
   "metadata": {},
   "outputs": [
    {
     "data": {
      "text/plain": [
       "(array([ 39.,   0.,   0.,   7.,  21.,  16.,   0.,   0.,   0.,   0.,   0.,\n",
       "          0.,   0.,   0.,   0.,   0.,   0.,   0.,   0.,   0.,   0.,   0.,\n",
       "          0.,   0.,   0.,   1.,   0.,   0.,   0.,   1.]),\n",
       " array([      0.        ,   22583.43333333,   45166.86666667,\n",
       "          67750.3       ,   90333.73333333,  112917.16666667,\n",
       "         135500.6       ,  158084.03333333,  180667.46666667,\n",
       "         203250.9       ,  225834.33333333,  248417.76666667,\n",
       "         271001.2       ,  293584.63333333,  316168.06666667,\n",
       "         338751.5       ,  361334.93333333,  383918.36666667,\n",
       "         406501.8       ,  429085.23333333,  451668.66666667,\n",
       "         474252.1       ,  496835.53333333,  519418.96666667,\n",
       "         542002.4       ,  564585.83333333,  587169.26666667,\n",
       "         609752.7       ,  632336.13333333,  654919.56666667,  677503.        ]),\n",
       " <a list of 30 Patch objects>)"
      ]
     },
     "execution_count": 78,
     "metadata": {},
     "output_type": "execute_result"
    },
    {
     "data": {
      "image/png": "[encoded data removed]",
      "text/plain": [
       "<matplotlib.figure.Figure at 0x7f0f014f3278>"
      ]
     },
     "metadata": {
      "needs_background": "light"
     },
     "output_type": "display_data"
    }
   ],
   "source": [
    "# Perform an assessment of how much missing data there is in each column of the\n",
    "# dataset.\n",
    "plt.hist(azdias_NaN.isnull().sum(), bins=30)\n"
   ]
  },
  {
   "cell_type": "code",
   "execution_count": 79,
   "metadata": {},
   "outputs": [],
   "source": [
    "# Investigate patterns in the amount of missing data in each column.\n",
    "\n"
   ]
  },
  {
   "cell_type": "code",
   "execution_count": 80,
   "metadata": {},
   "outputs": [
    {
     "name": "stdout",
     "output_type": "stream",
     "text": [
      "Outlier Missing Data Columns are:\n",
      "['AGER_TYP', 'KK_KUNDENTYP']\n"
     ]
    }
   ],
   "source": [
    "# Remove the outlier columns from the dataset. (You'll perform other data\n",
    "# engineering tasks such as re-encoding and imputation later.)\n",
    "\n",
    "nanCounts = azdias_NaN.isnull().sum().values\n",
    "nanIndices = azdias_NaN.isnull().sum().index\n",
    "\n",
    "dropColumns = []\n",
    "\n",
    "print(\"Outlier Missing Data Columns are:\")\n",
    "for i in range(len(nanCounts)):\n",
    "    if nanCounts[i] > 300000:\n",
    "        dropColumns.append(nanIndices[i])\n",
    "        \n",
    "print(dropColumns)\n",
    "\n",
    "azdias_NaN = azdias_NaN.drop(dropColumns, axis=1)"
   ]
  },
  {
   "cell_type": "code",
   "execution_count": 81,
   "metadata": {},
   "outputs": [
    {
     "data": {
      "text/plain": [
       "(array([ 27.,  11.,   0.,   0.,   0.,   0.,   1.,   0.,   0.,   0.,   0.,\n",
       "          0.,   0.,   0.,   0.,   0.,   0.,   0.,   0.,   0.,   0.,   0.,\n",
       "          0.,   0.,   0.,   0.,   0.,   7.,   0.,   0.,   0.,   0.,   0.,\n",
       "          0.,   6.,   3.,   4.,   3.,   0.,   1.,   1.,   3.,   0.,   7.,\n",
       "          0.,   2.,   0.,   0.,   0.,   7.]),\n",
       " array([      0.  ,    2666.48,    5332.96,    7999.44,   10665.92,\n",
       "          13332.4 ,   15998.88,   18665.36,   21331.84,   23998.32,\n",
       "          26664.8 ,   29331.28,   31997.76,   34664.24,   37330.72,\n",
       "          39997.2 ,   42663.68,   45330.16,   47996.64,   50663.12,\n",
       "          53329.6 ,   55996.08,   58662.56,   61329.04,   63995.52,\n",
       "          66662.  ,   69328.48,   71994.96,   74661.44,   77327.92,\n",
       "          79994.4 ,   82660.88,   85327.36,   87993.84,   90660.32,\n",
       "          93326.8 ,   95993.28,   98659.76,  101326.24,  103992.72,\n",
       "         106659.2 ,  109325.68,  111992.16,  114658.64,  117325.12,\n",
       "         119991.6 ,  122658.08,  125324.56,  127991.04,  130657.52,  133324.  ]),\n",
       " <a list of 50 Patch objects>)"
      ]
     },
     "execution_count": 81,
     "metadata": {},
     "output_type": "execute_result"
    },
    {
     "data": {
      "image/png": "[encoded data removed]",
      "text/plain": [
       "<matplotlib.figure.Figure at 0x7f0f00fdf710>"
      ]
     },
     "metadata": {
      "needs_background": "light"
     },
     "output_type": "display_data"
    }
   ],
   "source": [
    "plt.hist(azdias_NaN.isnull().sum(), bins=50)"
   ]
  },
  {
   "cell_type": "code",
   "execution_count": 82,
   "metadata": {},
   "outputs": [
    {
     "name": "stdout",
     "output_type": "stream",
     "text": [
      "33.66\n"
     ]
    }
   ],
   "source": [
    "print(format(300000/891221 * 100, '.2f'))"
   ]
  },
  {
   "cell_type": "markdown",
   "metadata": {},
   "source": [
    "#### Discussion 1.1.2: Assess Missing Data in Each Column\n",
    "\n",
    "Most columns (around 45 of them) with missing data seem to revolve around 100,000 missing data points. There are a few columns (around 2-3) with missing data in the 600k-700k range that seem to be outliers to the rest of the columns.\n",
    "\n",
    "**Final Decision:** Remove columns greater than 300k missing data. (34% of a dataset)"
   ]
  },
  {
   "cell_type": "markdown",
   "metadata": {},
   "source": [
    "#### Step 1.1.3: Assess Missing Data in Each Row\n",
    "\n",
    "Now, you'll perform a similar assessment for the rows of the dataset. How much data is missing in each row? As with the columns, you should see some groups of points that have a very different numbers of missing values. Divide the data into two subsets: one for data points that are above some threshold for missing values, and a second subset for points below that threshold.\n",
    "\n",
    "In order to know what to do with the outlier rows, we should see if the distribution of data values on columns that are not missing data (or are missing very little data) are similar or different between the two groups. Select at least five of these columns and compare the distribution of values.\n",
    "- You can use seaborn's [`countplot()`](https://seaborn.pydata.org/generated/seaborn.countplot.html) function to create a bar chart of code frequencies and matplotlib's [`subplot()`](https://matplotlib.org/api/_as_gen/matplotlib.pyplot.subplot.html) function to put bar charts for the two subplots side by side.\n",
    "- To reduce repeated code, you might want to write a function that can perform this comparison, taking as one of its arguments a column to be compared.\n",
    "\n",
    "Depending on what you observe in your comparison, this will have implications on how you approach your conclusions later in the analysis. If the distributions of non-missing features look similar between the data with many missing values and the data with few or no missing values, then we could argue that simply dropping those points from the analysis won't present a major issue. On the other hand, if the data with many missing values looks very different from the data with few or no missing values, then we should make a note on those data as special. We'll revisit these data later on. **Either way, you should continue your analysis for now using just the subset of the data with few or no missing values.**"
   ]
  },
  {
   "cell_type": "code",
   "execution_count": 83,
   "metadata": {},
   "outputs": [
    {
     "name": "stdout",
     "output_type": "stream",
     "text": [
      "(891221, 83)\n"
     ]
    }
   ],
   "source": [
    "print(azdias_NaN.shape)"
   ]
  },
  {
   "cell_type": "code",
   "execution_count": 84,
   "metadata": {},
   "outputs": [
    {
     "data": {
      "text/plain": [
       "(array([  6.91823000e+05,   4.70160000e+04,   4.10300000e+03,\n",
       "          1.02400000e+03,   1.55730000e+04,   1.71560000e+04,\n",
       "          5.27200000e+03,   1.50800000e+03,   3.33700000e+03,\n",
       "          2.08300000e+03,   6.63300000e+03,   6.25000000e+02,\n",
       "          1.60900000e+03,   8.60000000e+01,   1.06000000e+02,\n",
       "          4.60000000e+01,   3.40000000e+01,   2.20000000e+01,\n",
       "          3.00000000e+00,   1.20000000e+01,   0.00000000e+00,\n",
       "          1.82130000e+04,   3.99000000e+02,   8.59000000e+02,\n",
       "          8.00000000e+01,   0.00000000e+00,   0.00000000e+00,\n",
       "          0.00000000e+00,   7.35960000e+04,   3.00000000e+00]),\n",
       " array([  0.        ,   1.56666667,   3.13333333,   4.7       ,\n",
       "          6.26666667,   7.83333333,   9.4       ,  10.96666667,\n",
       "         12.53333333,  14.1       ,  15.66666667,  17.23333333,\n",
       "         18.8       ,  20.36666667,  21.93333333,  23.5       ,\n",
       "         25.06666667,  26.63333333,  28.2       ,  29.76666667,\n",
       "         31.33333333,  32.9       ,  34.46666667,  36.03333333,\n",
       "         37.6       ,  39.16666667,  40.73333333,  42.3       ,\n",
       "         43.86666667,  45.43333333,  47.        ]),\n",
       " <a list of 30 Patch objects>)"
      ]
     },
     "execution_count": 84,
     "metadata": {},
     "output_type": "execute_result"
    },
    {
     "data": {
      "image/png": "[encoded data removed]",
      "text/plain": [
       "<matplotlib.figure.Figure at 0x7f0f00bd8eb8>"
      ]
     },
     "metadata": {
      "needs_background": "light"
     },
     "output_type": "display_data"
    }
   ],
   "source": [
    "# How much data is missing in each row of the dataset?\n",
    "\n",
    "azdiasRow_NAN = azdias_NaN.isnull().sum(axis=1)\n",
    "\n",
    "plt.hist(azdiasRow_NAN, bins=30)"
   ]
  },
  {
   "cell_type": "code",
   "execution_count": 85,
   "metadata": {},
   "outputs": [
    {
     "name": "stdout",
     "output_type": "stream",
     "text": [
      "(798000, 83)\n",
      "(93221, 83)\n"
     ]
    }
   ],
   "source": [
    "# Write code to divide the data into two subsets based on the number of missing\n",
    "# values in each row.\n",
    "\n",
    "# azdiasRow_less25 = azdiasRow_NAN.where(azdiasRow_NAN <= 25)\n",
    "# azdiasRow_more25 = azdiasRow_NAN.where(azdiasRow_NAN > 25)\n",
    "\n",
    "azdiasRow_less25 = azdiasRow_NAN[azdiasRow_NAN <= 25]\n",
    "azdiasRow_more25 = azdiasRow_NAN[azdiasRow_NAN > 25]\n",
    "\n",
    "azdias_less25 = azdias_NaN.drop(azdiasRow_more25.index)\n",
    "azdias_more25 = azdias_NaN.drop(azdiasRow_less25.index)\n",
    "\n",
    "print(azdias_less25.shape)\n",
    "print(azdias_more25.shape)"
   ]
  },
  {
   "cell_type": "code",
   "execution_count": 86,
   "metadata": {},
   "outputs": [],
   "source": [
    "outClustCount_gen = azdias_more25.shape[0]"
   ]
  },
  {
   "cell_type": "code",
   "execution_count": 87,
   "metadata": {},
   "outputs": [
    {
     "data": {
      "text/plain": [
       "(array([  6.65058000e+05,   2.67650000e+04,   9.79400000e+03,\n",
       "          3.72220000e+04,   4.10300000e+03,   0.00000000e+00,\n",
       "          6.41000000e+02,   3.83000000e+02,   1.55730000e+04,\n",
       "          5.37300000e+03,   1.17830000e+04,   0.00000000e+00,\n",
       "          5.27200000e+03,   8.78000000e+02,   6.30000000e+02,\n",
       "          3.96000000e+02,   2.94100000e+03,   0.00000000e+00,\n",
       "          2.08300000e+03,   4.33300000e+03,   2.30000000e+03,\n",
       "          6.25000000e+02,   4.16000000e+02,   0.00000000e+00,\n",
       "          1.19300000e+03,   8.60000000e+01,   5.10000000e+01,\n",
       "          5.50000000e+01,   3.30000000e+01,   1.30000000e+01]),\n",
       " array([  0.        ,   0.83333333,   1.66666667,   2.5       ,\n",
       "          3.33333333,   4.16666667,   5.        ,   5.83333333,\n",
       "          6.66666667,   7.5       ,   8.33333333,   9.16666667,\n",
       "         10.        ,  10.83333333,  11.66666667,  12.5       ,\n",
       "         13.33333333,  14.16666667,  15.        ,  15.83333333,\n",
       "         16.66666667,  17.5       ,  18.33333333,  19.16666667,\n",
       "         20.        ,  20.83333333,  21.66666667,  22.5       ,\n",
       "         23.33333333,  24.16666667,  25.        ]),\n",
       " <a list of 30 Patch objects>)"
      ]
     },
     "execution_count": 87,
     "metadata": {},
     "output_type": "execute_result"
    },
    {
     "data": {
      "image/png": "[encoded data removed]",
      "text/plain": [
       "<matplotlib.figure.Figure at 0x7f0fa0020320>"
      ]
     },
     "metadata": {
      "needs_background": "light"
     },
     "output_type": "display_data"
    }
   ],
   "source": [
    "plt.hist(azdias_less25.isnull().sum(axis=1), bins=30)"
   ]
  },
  {
   "cell_type": "code",
   "execution_count": 88,
   "metadata": {},
   "outputs": [
    {
     "name": "stdout",
     "output_type": "stream",
     "text": [
      "['ANREDE_KZ', 'FINANZ_MINIMALIST', 'FINANZ_SPARER', 'FINANZ_VORSORGER', 'FINANZ_ANLEGER', 'FINANZ_UNAUFFAELLIGER', 'FINANZ_HAUSBAUER', 'FINANZTYP']\n"
     ]
    }
   ],
   "source": [
    "# Determine 8 columns with no missing values\n",
    "noMissCols = []\n",
    "\n",
    "for index, row in feat_info.iterrows():\n",
    "    if row['attribute'] in azdias_NaN.columns:\n",
    "        nancount = azdias_NaN[row['attribute']].isnull().sum()\n",
    "\n",
    "        if nancount < 5:\n",
    "            noMissCols.append(row['attribute'])\n",
    "\n",
    "            if len(noMissCols) == 8:\n",
    "                break\n",
    "\n",
    "print(noMissCols)"
   ]
  },
  {
   "cell_type": "code",
   "execution_count": 89,
   "metadata": {},
   "outputs": [],
   "source": [
    "def plotFeature(fName):\n",
    "    '''\n",
    "    This function plots the distribution of values for a particular feature for both datasets\n",
    "    \n",
    "    INPUT: fName - Name of Feature (no or few missing values)\n",
    "    OUTPUT: Two figures with the distribution of values for the feature\n",
    "    '''\n",
    "    fig, ax =plt.subplots(1,2)\n",
    "    sns.countplot(azdias_less25[fName], ax=ax[0])\n",
    "    sns.countplot(azdias_more25[fName], ax=ax[1])\n",
    "    fig.show()"
   ]
  },
  {
   "cell_type": "code",
   "execution_count": 90,
   "metadata": {},
   "outputs": [
    {
     "name": "stderr",
     "output_type": "stream",
     "text": [
      "/opt/conda/lib/python3.6/site-packages/matplotlib/figure.py:418: UserWarning: matplotlib is currently using a non-GUI backend, so cannot show the figure\n",
      "  \"matplotlib is currently using a non-GUI backend, \"\n"
     ]
    },
    {
     "data": {
      "image/png": "[encoded data removed]",
      "text/plain": [
       "<matplotlib.figure.Figure at 0x7f0f0151ec50>"
      ]
     },
     "metadata": {
      "needs_background": "light"
     },
     "output_type": "display_data"
    },
    {
     "data": {
      "image/png": "[encoded data removed]",
      "text/plain": [
       "<matplotlib.figure.Figure at 0x7f0f0145d048>"
      ]
     },
     "metadata": {
      "needs_background": "light"
     },
     "output_type": "display_data"
    },
    {
     "data": {
      "image/png": "[encoded data removed]",
      "text/plain": [
       "<matplotlib.figure.Figure at 0x7f0f00e2cdd8>"
      ]
     },
     "metadata": {
      "needs_background": "light"
     },
     "output_type": "display_data"
    },
    {
     "data": {
      "image/png": "[encoded data removed]",
      "text/plain": [
       "<matplotlib.figure.Figure at 0x7f0f012bc080>"
      ]
     },
     "metadata": {
      "needs_background": "light"
     },
     "output_type": "display_data"
    },
    {
     "data": {
      "image/png": "[encoded data removed]",
      "text/plain": [
       "<matplotlib.figure.Figure at 0x7f0f00e962e8>"
      ]
     },
     "metadata": {
      "needs_background": "light"
     },
     "output_type": "display_data"
    },
    {
     "data": {
      "image/png": "[encoded data removed]",
      "text/plain": [
       "<matplotlib.figure.Figure at 0x7f0f016b9710>"
      ]
     },
     "metadata": {
      "needs_background": "light"
     },
     "output_type": "display_data"
    },
    {
     "data": {
      "image/png": "[encoded data removed]",
      "text/plain": [
       "<matplotlib.figure.Figure at 0x7f0f00ce9f28>"
      ]
     },
     "metadata": {
      "needs_background": "light"
     },
     "output_type": "display_data"
    },
    {
     "data": {
      "image/png": "[encoded data removed]",
      "text/plain": [
       "<matplotlib.figure.Figure at 0x7f0f00c1c710>"
      ]
     },
     "metadata": {
      "needs_background": "light"
     },
     "output_type": "display_data"
    }
   ],
   "source": [
    "# Compare the distribution of values for at least five columns where there are\n",
    "# no or few missing values, between the two subsets.\n",
    "\n",
    "for colName in range(len(noMissCols)):\n",
    "    plotFeature(noMissCols[colName])"
   ]
  },
  {
   "cell_type": "markdown",
   "metadata": {},
   "source": [
    "#### Discussion 1.1.3: Assess Missing Data in Each Row\n",
    "\n",
    "The data with more than 25 missing features has a heavily skewed distribution in features with no missing data. Although we will continue the analysis with \"less than 25 missing features\", we should treat this as a separate cluster at the time of our clustering analysis.\n",
    "\n",
    "Therefore, we should **treat the \"more than 25 missing features\" dataset as special, and do not discard completely**."
   ]
  },
  {
   "cell_type": "markdown",
   "metadata": {},
   "source": [
    "### Step 1.2: Select and Re-Encode Features\n",
    "\n",
    "Checking for missing data isn't the only way in which you can prepare a dataset for analysis. Since the unsupervised learning techniques to be used will only work on data that is encoded numerically, you need to make a few encoding changes or additional assumptions to be able to make progress. In addition, while almost all of the values in the dataset are encoded using numbers, not all of them represent numeric values. Check the third column of the feature summary (`feat_info`) for a summary of types of measurement.\n",
    "- For numeric and interval data, these features can be kept without changes.\n",
    "- Most of the variables in the dataset are ordinal in nature. While ordinal values may technically be non-linear in spacing, make the simplifying assumption that the ordinal variables can be treated as being interval in nature (that is, kept without any changes).\n",
    "- Special handling may be necessary for the remaining two variable types: categorical, and 'mixed'.\n",
    "\n",
    "In the first two parts of this sub-step, you will perform an investigation of the categorical and mixed-type features and make a decision on each of them, whether you will keep, drop, or re-encode each. Then, in the last part, you will create a new data frame with only the selected and engineered columns.\n",
    "\n",
    "Data wrangling is often the trickiest part of the data analysis process, and there's a lot of it to be done here. But stick with it: once you're done with this step, you'll be ready to get to the machine learning parts of the project!"
   ]
  },
  {
   "cell_type": "code",
   "execution_count": 91,
   "metadata": {},
   "outputs": [
    {
     "name": "stdout",
     "output_type": "stream",
     "text": [
      "ordinal        49\n",
      "categorical    21\n",
      "numeric         7\n",
      "mixed           7\n",
      "interval        1\n",
      "Name: type, dtype: int64\n"
     ]
    }
   ],
   "source": [
    "# How many features are there of each data type?\n",
    "\n",
    "print(feat_info['type'].value_counts())"
   ]
  },
  {
   "cell_type": "markdown",
   "metadata": {},
   "source": [
    "#### Step 1.2.1: Re-Encode Categorical Features\n",
    "\n",
    "For categorical data, you would ordinarily need to encode the levels as dummy variables. Depending on the number of categories, perform one of the following:\n",
    "- For binary (two-level) categoricals that take numeric values, you can keep them without needing to do anything.\n",
    "- There is one binary variable that takes on non-numeric values. For this one, you need to re-encode the values as numbers or create a dummy variable.\n",
    "- For multi-level categoricals (three or more values), you can choose to encode the values using multiple dummy variables (e.g. via [OneHotEncoder](http://scikit-learn.org/stable/modules/generated/sklearn.preprocessing.OneHotEncoder.html)), or (to keep things straightforward) just drop them from the analysis. As always, document your choices in the Discussion section."
   ]
  },
  {
   "cell_type": "code",
   "execution_count": 92,
   "metadata": {},
   "outputs": [
    {
     "name": "stdout",
     "output_type": "stream",
     "text": [
      "ANREDE_KZ\n",
      "Unique values: 2\n",
      "# of NaN: 0\n",
      "[2 1]\n",
      "----------\n",
      "CJT_GESAMTTYP\n",
      "Unique values: 6\n",
      "# of NaN: 1\n",
      "[  5.   3.   2.   4.   1.   6.  nan]\n",
      "----------\n",
      "FINANZTYP\n",
      "Unique values: 6\n",
      "# of NaN: 0\n",
      "[1 6 5 2 4 3]\n",
      "----------\n",
      "GFK_URLAUBERTYP\n",
      "Unique values: 12\n",
      "# of NaN: 1\n",
      "[ 10.   1.   5.  12.   9.   3.   8.  11.   4.   2.   7.   6.  nan]\n",
      "----------\n",
      "GREEN_AVANTGARDE\n",
      "Unique values: 2\n",
      "# of NaN: 0\n",
      "[0 1]\n",
      "----------\n",
      "LP_FAMILIE_FEIN\n",
      "Unique values: 12\n",
      "# of NaN: 1\n",
      "[  5.   1.   0.  10.   2.   7.  11.   8.   4.   6.  nan   9.   3.]\n",
      "----------\n",
      "LP_FAMILIE_GROB\n",
      "Unique values: 6\n",
      "# of NaN: 1\n",
      "[  3.   1.   0.   5.   2.   4.  nan]\n",
      "----------\n",
      "LP_STATUS_FEIN\n",
      "Unique values: 10\n",
      "# of NaN: 1\n",
      "[  2.   3.   9.   4.   1.  10.   5.   8.   6.   7.  nan]\n",
      "----------\n",
      "LP_STATUS_GROB\n",
      "Unique values: 5\n",
      "# of NaN: 1\n",
      "[  1.   2.   4.   5.   3.  nan]\n",
      "----------\n",
      "NATIONALITAET_KZ\n",
      "Unique values: 4\n",
      "# of NaN: 0\n",
      "[1 3 2 0]\n",
      "----------\n",
      "SHOPPER_TYP\n",
      "Unique values: 4\n",
      "# of NaN: 1\n",
      "[  3.   2.   1.   0.  nan]\n",
      "----------\n",
      "SOHO_KZ\n",
      "Unique values: 2\n",
      "# of NaN: 0\n",
      "[ 1.  0.]\n",
      "----------\n",
      "TITEL_KZ\n",
      "Unique values: 6\n",
      "# of NaN: 0\n",
      "[ 0.  4.  1.  3.  5.  2.]\n",
      "----------\n",
      "VERS_TYP\n",
      "Unique values: 2\n",
      "# of NaN: 1\n",
      "[  2.   1.  nan]\n",
      "----------\n",
      "ZABEOTYP\n",
      "Unique values: 6\n",
      "# of NaN: 0\n",
      "[5 3 4 1 6 2]\n",
      "----------\n",
      "GEBAEUDETYP\n",
      "Unique values: 7\n",
      "# of NaN: 0\n",
      "[ 8.  1.  3.  2.  6.  4.  5.]\n",
      "----------\n",
      "OST_WEST_KZ\n",
      "Unique values: 2\n",
      "# of NaN: 0\n",
      "['W' 'O']\n",
      "----------\n",
      "CAMEO_DEUG_2015\n",
      "Unique values: 9\n",
      "# of NaN: 1\n",
      "['8' '4' '2' '6' '1' '9' '5' '7' nan '3']\n",
      "----------\n",
      "CAMEO_DEU_2015\n",
      "Unique values: 44\n",
      "# of NaN: 1\n",
      "['8A' '4C' '2A' '6B' '8C' '4A' '2D' '1A' '1E' '9D' '5C' '8B' '7A' '5D' '9E'\n",
      " nan '9B' '1B' '3D' '4E' '4B' '3C' '5A' '7B' '9A' '6D' '6E' '2C' '7C' '9C'\n",
      " '7D' '5E' '1D' '8D' '6C' '6A' '5B' '4D' '3A' '2B' '7E' '3B' '6F' '5F' '1C']\n",
      "----------\n",
      "Multi-level Categorical Variables:\n",
      "['CJT_GESAMTTYP', 'FINANZTYP', 'GFK_URLAUBERTYP', 'LP_FAMILIE_FEIN', 'LP_FAMILIE_GROB', 'LP_STATUS_FEIN', 'LP_STATUS_GROB', 'NATIONALITAET_KZ', 'SHOPPER_TYP', 'TITEL_KZ', 'ZABEOTYP', 'GEBAEUDETYP', 'CAMEO_DEUG_2015', 'CAMEO_DEU_2015']\n"
     ]
    }
   ],
   "source": [
    "# Assess categorical variables: which are binary, which are multi-level, and\n",
    "# which one needs to be re-encoded?\n",
    "\n",
    "multiCat_Cols = []\n",
    "\n",
    "for index, row in feat_info.iterrows():\n",
    "    if row['attribute'] in azdias_less25 and row['type'] == \"categorical\":\n",
    "        uniqueSeries = azdias_less25[row['attribute']].unique()\n",
    "        nanAdj = 1 if azdias_less25[row['attribute']].isnull().sum() > 0 else 0\n",
    "        \n",
    "        print(row['attribute'])\n",
    "        print(\"Unique values: \" + str(len(azdias_less25[row['attribute']].value_counts())))\n",
    "        print(\"# of NaN: \" + str(nanAdj))\n",
    "        print(uniqueSeries)\n",
    "        print(\"----------\")\n",
    "        \n",
    "        if (len(uniqueSeries) - nanAdj) >= 3:\n",
    "            multiCat_Cols.append(row['attribute'])\n",
    "            \n",
    "print(\"Multi-level Categorical Variables:\")\n",
    "print(multiCat_Cols)"
   ]
  },
  {
   "cell_type": "code",
   "execution_count": 93,
   "metadata": {},
   "outputs": [
    {
     "name": "stdout",
     "output_type": "stream",
     "text": [
      "OST_WEST_KZ replaced.\n",
      "[1 2]\n",
      "(798000, 132)\n"
     ]
    }
   ],
   "source": [
    "# Re-encode categorical variable(s) to be kept in the analysis.\n",
    "azdias_proc = pd.DataFrame(data=azdias_less25)\n",
    "\n",
    "# Re-encode binary string categorial variable\n",
    "azdias_proc['OST_WEST_KZ'] = azdias_proc['OST_WEST_KZ'].map({'W': 1, 'O': 2})\n",
    "print(\"OST_WEST_KZ replaced.\")\n",
    "print(azdias_proc['OST_WEST_KZ'].unique())\n",
    "\n",
    "# Identify categories to drop\n",
    "multiCat_Cols_DROP = [\"LP_FAMILIE_FEIN\", \"LP_STATUS_FEIN\", \"NATIONALITAET_KZ\", \"TITEL_KZ\", \"ZABEOTYP\", \"CAMEO_DEU_2015\"]\n",
    "\n",
    "# Re-encode multi-level categorical variables\n",
    "for j in range(len(multiCat_Cols)):\n",
    "    if not multiCat_Cols[j] in multiCat_Cols_DROP:\n",
    "        # One Hot Encode\n",
    "        azdias_proc = pd.concat([azdias_proc, pd.get_dummies(azdias_proc[multiCat_Cols[j]], prefix=multiCat_Cols[j])], axis=1)\n",
    "        \n",
    "# Drop other multi-level categorical variables\n",
    "azdias_proc.drop(multiCat_Cols_DROP, axis=1, inplace=True)\n",
    "\n",
    "print(azdias_proc.shape)"
   ]
  },
  {
   "cell_type": "markdown",
   "metadata": {},
   "source": [
    "#### Discussion 1.2.1: Re-Encode Categorical Features\n",
    "\n",
    "**Binary Non-Numeric Variable:**  \n",
    "Identified \"OST_WEST_KZ\" as the binary non-numeric variable. This was re-encoded using an arbitrary numeric system (W = 1, O = 2)\n",
    "\n",
    "**Multi-level Categorical Variables:**\n",
    "1. CJT_GESAMTTYP  \n",
    "Customer-Journey-Typology: preferred information and buying channels for consumer.  \n",
    "**Keep** This contains data on their channel preferences, crucial to determine a customer base for mail orders.\n",
    "\n",
    "\n",
    "2. FINANZTYP  \n",
    "Most descriptive financial type for individual  \n",
    "**Keep** Will describe their spending habits/views, so moderately descriptive of their propensity to spend via mail-order.\n",
    "\n",
    "\n",
    "3. GFK_URLAUBERTYP  \n",
    "Vacation habits  \n",
    "**Keep** Depends on the type of good/service advertised by the mail-order (e.g. ski sales right before ski season), but probably worth keeping.\n",
    "\n",
    "\n",
    "4. LP_FAMILIE_FEIN  \n",
    "Family type, fine scale  \n",
    "**Drop** Probably not a whole lot more insightful than LP_FAMILIE_GROB, which is the same data at a rougher scale.\n",
    "\n",
    "\n",
    "5. LP_FAMILIE_GROB  \n",
    "Family type, rough scale  \n",
    "**Keep** Yes, it's key demographic data that implies spending habits.\n",
    "\n",
    "\n",
    "6. LP_STATUS_FEIN  \n",
    "Social status, fine scale  \n",
    "**Drop** If certain segments of this categorization is helpful for the client's product/service, yes. But at a high level, probably more info than we need (Similar to LP_FAMILIE_FEIN - #4 above)\n",
    "\n",
    "\n",
    "7. LP_STATUS_GROB  \n",
    "Social status, rough scale  \n",
    "**Keep** Yes, social demographics is a strong predictor for propensity to spend.\n",
    "\n",
    "\n",
    "8. NATIONALITAET_KZ  \n",
    "Nationality based on given name analysis  \n",
    "**Drop** Probably not too much, as for most goods/services, factors other than nationality are way stronger predictors for spending preferences.\n",
    "\n",
    "\n",
    "9. SHOPPER_TYP  \n",
    "Shopper typology  \n",
    "**Keep** Yes, as it describes in greater detail the spending patterns of the lead.\n",
    "\n",
    "\n",
    "10. TITEL_KZ  \n",
    "Academic title flag  \n",
    "**Drop** Not all that helpful for most goods/services.\n",
    "\n",
    "\n",
    "11. ZABEOTYP  \n",
    "Energy consumption typology  \n",
    "**Drop** Only if the product is energy-related (e.g. smart thermometers, net meters, energy efficiency apps). As that doesn't seem to be the case for our client, drop.\n",
    "\n",
    "\n",
    "12. GEBAEUDETYP  \n",
    "Type of building (residential vs. commercial)  \n",
    "**Keep** This will be helpful in determining what types of goods/services the customer would be interested in.\n",
    "\n",
    "\n",
    "13. CAMEO_DEUG_2015  \n",
    "German CAMEO: Wealth / Life Stage Typology, rough scale  \n",
    "**Keep** Yes, as it is a socioeconomic demographic classification that contains detailed information on their propensity to spend.\n",
    "\n",
    "\n",
    "14. CAMEO_DEU_2015  \n",
    "German CAMEO: Wealth / Life Stage Typology, detailed scale  \n",
    "**Drop** For general demographic segmentation like mail-order customers, this level of detail is not required (not worth the extra processing time/costs)."
   ]
  },
  {
   "cell_type": "markdown",
   "metadata": {},
   "source": [
    "#### Step 1.2.2: Engineer Mixed-Type Features\n",
    "\n",
    "There are a handful of features that are marked as \"mixed\" in the feature summary that require special treatment in order to be included in the analysis. There are two in particular that deserve attention; the handling of the rest are up to your own choices:\n",
    "- \"PRAEGENDE_JUGENDJAHRE\" combines information on three dimensions: generation by decade, movement (mainstream vs. avantgarde), and nation (east vs. west). While there aren't enough levels to disentangle east from west, you should create two new variables to capture the other two dimensions: an interval-type variable for decade, and a binary variable for movement.\n",
    "- \"CAMEO_INTL_2015\" combines information on two axes: wealth and life stage. Break up the two-digit codes by their 'tens'-place and 'ones'-place digits into two new ordinal variables (which, for the purposes of this project, is equivalent to just treating them as their raw numeric values).\n",
    "- If you decide to keep or engineer new features around the other mixed-type features, make sure you note your steps in the Discussion section.\n",
    "\n",
    "Be sure to check `Data_Dictionary.md` for the details needed to finish these tasks."
   ]
  },
  {
   "cell_type": "code",
   "execution_count": 94,
   "metadata": {},
   "outputs": [
    {
     "name": "stdout",
     "output_type": "stream",
     "text": [
      "decade feature generated. Unique values check:\n",
      "[ 90.  70.  50.  80.  60.  nan  40.]\n",
      "movement feature generated. Unique values check:\n",
      "[  1.   2.  nan]\n",
      "(798000, 134)\n"
     ]
    }
   ],
   "source": [
    "# Investigate \"PRAEGENDE_JUGENDJAHRE\" and engineer two new variables.\n",
    "\n",
    "# Map of decade\n",
    "def decadeMap(c):\n",
    "    if 1 <= c['PRAEGENDE_JUGENDJAHRE'] <= 2:\n",
    "        return 40\n",
    "    elif 3 <= c['PRAEGENDE_JUGENDJAHRE'] <= 4:\n",
    "        return 50\n",
    "    elif 5 <= c['PRAEGENDE_JUGENDJAHRE'] <= 7:\n",
    "        return 60\n",
    "    elif 8 <= c['PRAEGENDE_JUGENDJAHRE'] <= 9:\n",
    "        return 70\n",
    "    elif 10 <= c['PRAEGENDE_JUGENDJAHRE'] <= 13:\n",
    "        return 80\n",
    "    elif 14 <= c['PRAEGENDE_JUGENDJAHRE']:\n",
    "        return 90\n",
    "    else:\n",
    "        return np.nan\n",
    "\n",
    "# Create Decade Column\n",
    "azdias_proc['decade'] = azdias_proc.apply(decadeMap, axis=1)\n",
    "print(\"decade feature generated. Unique values check:\")\n",
    "print(azdias_proc['decade'].unique())\n",
    "\n",
    "# Map of movement\n",
    "def movementMap(c):\n",
    "    if c['PRAEGENDE_JUGENDJAHRE'] == 1 or c['PRAEGENDE_JUGENDJAHRE'] == 3 or c['PRAEGENDE_JUGENDJAHRE'] == 5 or c['PRAEGENDE_JUGENDJAHRE'] == 8 or c['PRAEGENDE_JUGENDJAHRE'] == 10 or c['PRAEGENDE_JUGENDJAHRE'] == 12 or c['PRAEGENDE_JUGENDJAHRE'] == 14:\n",
    "        return 1\n",
    "    elif c['PRAEGENDE_JUGENDJAHRE'] == 2 or c['PRAEGENDE_JUGENDJAHRE'] == 4 or c['PRAEGENDE_JUGENDJAHRE'] == 6 or c['PRAEGENDE_JUGENDJAHRE'] == 7 or c['PRAEGENDE_JUGENDJAHRE'] == 9 or c['PRAEGENDE_JUGENDJAHRE'] == 11 or c['PRAEGENDE_JUGENDJAHRE'] == 13 or c['PRAEGENDE_JUGENDJAHRE'] == 15:\n",
    "        return 2\n",
    "    else:\n",
    "        return np.nan\n",
    "\n",
    "# Create Decade Column\n",
    "azdias_proc['movement'] = azdias_proc.apply(movementMap, axis=1)\n",
    "print(\"movement feature generated. Unique values check:\")\n",
    "print(azdias_proc['movement'].unique())\n",
    "\n",
    "print(azdias_proc.shape)"
   ]
  },
  {
   "cell_type": "code",
   "execution_count": 95,
   "metadata": {},
   "outputs": [
    {
     "name": "stdout",
     "output_type": "stream",
     "text": [
      "wealth feature generated. Unique values check:\n",
      "[  5.   2.   1.   4.   3.  nan]\n",
      "lifestage feature generated. Unique values check:\n",
      "[  1.   4.   2.   3.   5.  nan]\n"
     ]
    }
   ],
   "source": [
    "# Investigate \"CAMEO_INTL_2015\" and engineer two new variables.\n",
    "import math\n",
    "\n",
    "# Map of Wealth\n",
    "def wealthMap(c):\n",
    "    finalParam = np.int64(c['CAMEO_INTL_2015']) if type(c['CAMEO_INTL_2015']) is str else c['CAMEO_INTL_2015']\n",
    "    \n",
    "    if c['CAMEO_INTL_2015'] == np.nan or math.isnan(finalParam):\n",
    "        return np.nan\n",
    "    elif 10 <= finalParam < 20:\n",
    "        return 1\n",
    "    elif 20 <= finalParam < 30:\n",
    "        return 2\n",
    "    elif 30 <= finalParam < 40:\n",
    "        return 3\n",
    "    elif 40 <= finalParam < 50:\n",
    "        return 4\n",
    "    elif 50 <= finalParam < 60:\n",
    "        return 5\n",
    "    \n",
    "azdias_proc['wealth'] = azdias_proc.apply(wealthMap, axis=1)\n",
    "\n",
    "print(\"wealth feature generated. Unique values check:\")\n",
    "print(azdias_proc['wealth'].unique())\n",
    "\n",
    "def lifestageMap(c):\n",
    "    finalParam = np.int64(c['CAMEO_INTL_2015']) if type(c['CAMEO_INTL_2015']) is str else c['CAMEO_INTL_2015']\n",
    "    \n",
    "    if c['CAMEO_INTL_2015'] == np.nan or math.isnan(finalParam):\n",
    "        return np.nan\n",
    "    elif 10 <= finalParam < 60:\n",
    "        return (finalParam % 10)\n",
    "    \n",
    "azdias_proc['lifestage'] = azdias_proc.apply(lifestageMap, axis=1)\n",
    "\n",
    "print(\"lifestage feature generated. Unique values check:\")\n",
    "print(azdias_proc['lifestage'].unique())"
   ]
  },
  {
   "cell_type": "code",
   "execution_count": 96,
   "metadata": {},
   "outputs": [
    {
     "name": "stdout",
     "output_type": "stream",
     "text": [
      "(798000, 134)\n"
     ]
    }
   ],
   "source": [
    "azdias_proc.drop([\"PRAEGENDE_JUGENDJAHRE\", \"CAMEO_INTL_2015\"], axis=1, inplace=True)\n",
    "\n",
    "print(azdias_proc.shape)"
   ]
  },
  {
   "cell_type": "code",
   "execution_count": 97,
   "metadata": {},
   "outputs": [
    {
     "name": "stdout",
     "output_type": "stream",
     "text": [
      "Remaining Mixed Categorical Variables:\n",
      "['LP_LEBENSPHASE_FEIN', 'LP_LEBENSPHASE_GROB', 'WOHNLAGE', 'KBA05_BAUMAX', 'PLZ8_BAUMAX']\n"
     ]
    }
   ],
   "source": [
    "# Scan through remaining mixed variables\n",
    "mixed_Cols = []\n",
    "\n",
    "for index, row in feat_info.iterrows():\n",
    "    if row['attribute'] in azdias_proc and row['type'] == \"mixed\" and row['attribute'] != \"PRAEGENDE_JUGENDJAHRE\" and row['attribute'] != \"CAMEO_INTL_2015\":\n",
    "        mixed_Cols.append(row['attribute'])\n",
    "            \n",
    "print(\"Remaining Mixed Categorical Variables:\")\n",
    "print(mixed_Cols)\n",
    "\n",
    "# Drop all other mixed variables (see discussion below)\n",
    "azdias_proc.drop(mixed_Cols, axis=1, inplace=True)"
   ]
  },
  {
   "cell_type": "code",
   "execution_count": 98,
   "metadata": {},
   "outputs": [
    {
     "name": "stdout",
     "output_type": "stream",
     "text": [
      "(798000, 129)\n"
     ]
    }
   ],
   "source": [
    "print(azdias_proc.shape)"
   ]
  },
  {
   "cell_type": "markdown",
   "metadata": {},
   "source": [
    "#### Discussion 1.2.2: Engineer Mixed-Type Features\n",
    "\n",
    "##### Key Transformations\n",
    "1. PRAEGENDE_JUGENDJAHRE - Split into decade & movement based on values (mapped decade using the string answers in the DataDictionary, corresponding to decades, and set \"movement\" on an arbitrary, binary number value - Avantgarde = 2, Mainstream = 1)\n",
    "2. CAMEO_INTL_2015 - Split into wealth (i.e. the scale indicated in DataDictionary - higher = poorer) & life stage (mapped second digit to corresponding lifestage group)\n",
    "\n",
    "##### Others\n",
    "1. LP_LEBENSPHASE_FEIN  \n",
    "Life stage, fine scale  \n",
    "**Drop** Life stage detail already extracted from CAMEO_INTL_2015 (named \"lifestage\"). Furthermore, this categorization is far more detailed than we need.\n",
    "\n",
    "\n",
    "2. CAMEO_INTL_2015  \n",
    "Life stage, rough scale  \n",
    "**Drop** Won't hurt keeping, but probably not much incremental value over the extracted \"lifestage\".\n",
    "\n",
    "\n",
    "3. WOHNLAGE  \n",
    "Neighborhood quality (or rural flag)  \n",
    "**Drop** Won't hurt keeping, but probably not much incremental value over the extracted \"wealth\".\n",
    "\n",
    "\n",
    "4. KBA05_BAUMAX  \n",
    "Most common building type within the microcell  \n",
    "**Drop** Probably not much useful info in analyzing an individual consumer.\n",
    "\n",
    "\n",
    "4. PLZ8_BAUMAX  \n",
    "Most common building type within the PLZ8 region  \n",
    "**Drop** Probably not much useful info in analyzing an individual consumer."
   ]
  },
  {
   "cell_type": "markdown",
   "metadata": {},
   "source": [
    "#### Step 1.2.3: Complete Feature Selection\n",
    "\n",
    "In order to finish this step up, you need to make sure that your data frame now only has the columns that you want to keep. To summarize, the dataframe should consist of the following:\n",
    "- All numeric, interval, and ordinal type columns from the original dataset.\n",
    "- Binary categorical features (all numerically-encoded).\n",
    "- Engineered features from other multi-level categorical features and mixed features.\n",
    "\n",
    "Make sure that for any new columns that you have engineered, that you've excluded the original columns from the final dataset. Otherwise, their values will interfere with the analysis later on the project. For example, you should not keep \"PRAEGENDE_JUGENDJAHRE\", since its values won't be useful for the algorithm: only the values derived from it in the engineered features you created should be retained. As a reminder, your data should only be from **the subset with few or no missing values**."
   ]
  },
  {
   "cell_type": "markdown",
   "metadata": {},
   "source": [
    "### Preprocessing Summary\n",
    "1. Convert all missing values to \"NaN\" (according to feat_info's mapping (in column 4)  \n",
    "2. Remove outlier columns (threshold >= 500k missing)  \n",
    "3. Remove outlier rows (threshold > 25 missing), after checking same data distribution for non-missing features  \n",
    "4. En-coding (Categorical)  \n",
    "    **OST_WEST_KZ** - Convert to binary numerical variable (W = 1, S = 2)  \n",
    "    **Re-encoded Variables** = ['CJT_GESAMTTYP', 'FINANZTYP', 'GFK_URLAUBERTYP', 'LP_FAMILIE_GROB', 'LP_STATUS_GROB', 'SHOPPER_TYP', 'GEBAEUDETYP', 'CAMEO_DEUG_2015']  \n",
    "    **Drop Variables** - [\"LP_FAMILIE_FEIN\", \"LP_STATUS_FEIN\", \"NATIONALITAET_KZ\", \"TITEL_KZ\", \"ZABEOTYP\", \"CAMEO_DEU_2015\"]  \n",
    "5. En-coding (Mixed)  \n",
    "    **PRAEGENDE_JUGENDJAHRE** - Split into (1) decade, and (2) movement  \n",
    "    **CAMEO_INTL_2015** - Split into (1) wealth, and (2) lifestage  \n",
    "    **Drop Variables** - ['LP_LEBENSPHASE_FEIN', 'LP_LEBENSPHASE_GROB', 'WOHNLAGE', 'KBA05_BAUMAX', 'PLZ8_BAUMAX']  \n",
    "    \n",
    "### QC List\n",
    "1. For each column, check that there are no values with the original \"missing data\" values (feat_info, col 4) - they must all be NaNs\n",
    "2. Check that appropiate columns have been removed & added - **Done**\n",
    "3. Check that rows are properly isolating the outliers - **Done**\n",
    "4. Check data types & values of encoded columns\n",
    "5. Check data types & values of columns created from the \"mixed\" data\n",
    "\n",
    "**Drop Columns:**  \n",
    "[The 2 Outliers]  \n",
    "LP_FAMILIE_FEIN  \n",
    "LP_STATUS_FEIN  \n",
    "NATIONALITAET_KZ  \n",
    "TITEL_KZ  \n",
    "ZABEOTYP  \n",
    "CAMEO_DEU_2015  \n",
    "PRAEGENDE_JUGENDJAHRE  \n",
    "CAMEO_INTL_2015  \n",
    "LP_LEBENSPHASE_FEIN  \n",
    "LP_LEBENSPHASE_GROB  \n",
    "WOHNLAGE  \n",
    "KBA05_BAUMAX  \n",
    "PLZ8_BAUMAX  "
   ]
  },
  {
   "cell_type": "code",
   "execution_count": 99,
   "metadata": {},
   "outputs": [],
   "source": [
    "# If there are other re-engineering tasks you need to perform, make sure you\n",
    "# take care of them here. (Dealing with missing data will come in step 2.1.)\n",
    "\n"
   ]
  },
  {
   "cell_type": "code",
   "execution_count": 100,
   "metadata": {},
   "outputs": [
    {
     "name": "stdout",
     "output_type": "stream",
     "text": [
      "['ALTERSKATEGORIE_GROB' 'ANREDE_KZ' 'FINANZ_MINIMALIST' 'FINANZ_SPARER'\n",
      " 'FINANZ_VORSORGER' 'FINANZ_ANLEGER' 'FINANZ_UNAUFFAELLIGER'\n",
      " 'FINANZ_HAUSBAUER' 'GEBURTSJAHR' 'GREEN_AVANTGARDE' 'HEALTH_TYP'\n",
      " 'RETOURTYP_BK_S' 'SEMIO_SOZ' 'SEMIO_FAM' 'SEMIO_REL' 'SEMIO_MAT'\n",
      " 'SEMIO_VERT' 'SEMIO_LUST' 'SEMIO_ERL' 'SEMIO_KULT' 'SEMIO_RAT'\n",
      " 'SEMIO_KRIT' 'SEMIO_DOM' 'SEMIO_KAEM' 'SEMIO_PFLICHT' 'SEMIO_TRADV'\n",
      " 'SOHO_KZ' 'VERS_TYP' 'ALTER_HH' 'ANZ_PERSONEN' 'ANZ_TITEL'\n",
      " 'HH_EINKOMMEN_SCORE' 'W_KEIT_KIND_HH' 'WOHNDAUER_2008'\n",
      " 'ANZ_HAUSHALTE_AKTIV' 'ANZ_HH_TITEL' 'KONSUMNAEHE' 'MIN_GEBAEUDEJAHR'\n",
      " 'OST_WEST_KZ' 'KBA05_ANTG1' 'KBA05_ANTG2' 'KBA05_ANTG3' 'KBA05_ANTG4'\n",
      " 'KBA05_GBZ' 'BALLRAUM' 'EWDICHTE' 'INNENSTADT' 'GEBAEUDETYP_RASTER' 'KKK'\n",
      " 'MOBI_REGIO' 'ONLINE_AFFINITAET' 'REGIOTYP' 'KBA13_ANZAHL_PKW'\n",
      " 'PLZ8_ANTG1' 'PLZ8_ANTG2' 'PLZ8_ANTG3' 'PLZ8_ANTG4' 'PLZ8_HHZ' 'PLZ8_GBZ'\n",
      " 'ARBEIT' 'ORTSGR_KLS9' 'RELAT_AB' 'CJT_GESAMTTYP_1.0' 'CJT_GESAMTTYP_2.0'\n",
      " 'CJT_GESAMTTYP_3.0' 'CJT_GESAMTTYP_4.0' 'CJT_GESAMTTYP_5.0'\n",
      " 'CJT_GESAMTTYP_6.0' 'FINANZTYP_1' 'FINANZTYP_2' 'FINANZTYP_3'\n",
      " 'FINANZTYP_4' 'FINANZTYP_5' 'FINANZTYP_6' 'GFK_URLAUBERTYP_1.0'\n",
      " 'GFK_URLAUBERTYP_2.0' 'GFK_URLAUBERTYP_3.0' 'GFK_URLAUBERTYP_4.0'\n",
      " 'GFK_URLAUBERTYP_5.0' 'GFK_URLAUBERTYP_6.0' 'GFK_URLAUBERTYP_7.0'\n",
      " 'GFK_URLAUBERTYP_8.0' 'GFK_URLAUBERTYP_9.0' 'GFK_URLAUBERTYP_10.0'\n",
      " 'GFK_URLAUBERTYP_11.0' 'GFK_URLAUBERTYP_12.0' 'LP_FAMILIE_GROB_0.0'\n",
      " 'LP_FAMILIE_GROB_1.0' 'LP_FAMILIE_GROB_2.0' 'LP_FAMILIE_GROB_3.0'\n",
      " 'LP_FAMILIE_GROB_4.0' 'LP_FAMILIE_GROB_5.0' 'LP_STATUS_GROB_1.0'\n",
      " 'LP_STATUS_GROB_2.0' 'LP_STATUS_GROB_3.0' 'LP_STATUS_GROB_4.0'\n",
      " 'LP_STATUS_GROB_5.0' 'SHOPPER_TYP_0.0' 'SHOPPER_TYP_1.0' 'SHOPPER_TYP_2.0'\n",
      " 'SHOPPER_TYP_3.0' 'GEBAEUDETYP_1.0' 'GEBAEUDETYP_2.0' 'GEBAEUDETYP_3.0'\n",
      " 'GEBAEUDETYP_4.0' 'GEBAEUDETYP_5.0' 'GEBAEUDETYP_6.0' 'GEBAEUDETYP_8.0'\n",
      " 'CAMEO_DEUG_2015_1' 'CAMEO_DEUG_2015_2' 'CAMEO_DEUG_2015_3'\n",
      " 'CAMEO_DEUG_2015_4' 'CAMEO_DEUG_2015_5' 'CAMEO_DEUG_2015_6'\n",
      " 'CAMEO_DEUG_2015_7' 'CAMEO_DEUG_2015_8' 'CAMEO_DEUG_2015_9' 'decade'\n",
      " 'movement' 'wealth' 'lifestage']\n"
     ]
    }
   ],
   "source": [
    "# Do whatever you need to in order to ensure that the dataframe only contains\n",
    "# the columns that should be passed to the algorithm functions.\n",
    "\n",
    "reencodedDrops = ['CJT_GESAMTTYP', 'FINANZTYP', 'GFK_URLAUBERTYP', 'LP_FAMILIE_GROB', 'LP_STATUS_GROB', 'SHOPPER_TYP', 'GEBAEUDETYP', 'CAMEO_DEUG_2015']\n",
    "\n",
    "azdias_proc.drop(reencodedDrops, axis=1, inplace=True)\n",
    "\n",
    "# Check Column Names\n",
    "print(azdias_proc.columns.values)"
   ]
  },
  {
   "cell_type": "code",
   "execution_count": 101,
   "metadata": {},
   "outputs": [
    {
     "name": "stdout",
     "output_type": "stream",
     "text": [
      "(798000, 121)\n"
     ]
    }
   ],
   "source": [
    "print(azdias_proc.shape)"
   ]
  },
  {
   "cell_type": "markdown",
   "metadata": {},
   "source": [
    "### Step 1.3: Create a Cleaning Function\n",
    "\n",
    "Even though you've finished cleaning up the general population demographics data, it's important to look ahead to the future and realize that you'll need to perform the same cleaning steps on the customer demographics data. In this substep, complete the function below to execute the main feature selection, encoding, and re-engineering steps you performed above. Then, when it comes to looking at the customer data in Step 3, you can just run this function on that DataFrame to get the trimmed dataset in a single step."
   ]
  },
  {
   "cell_type": "code",
   "execution_count": 102,
   "metadata": {},
   "outputs": [],
   "source": [
    "def clean_data(df):\n",
    "    \"\"\"\n",
    "    Perform feature trimming, re-encoding, and engineering for demographics\n",
    "    data\n",
    "    \n",
    "    INPUT: Demographics DataFrame\n",
    "    OUTPUT: Trimmed and cleaned demographics DataFrame\n",
    "    \"\"\"\n",
    "    \n",
    "    import math\n",
    "    \n",
    "    # Put in code here to execute all main cleaning steps:\n",
    "    # convert missing value codes into NaNs, ...\n",
    "    df_NaN = pd.DataFrame(data=df)\n",
    "    \n",
    "    for index, row in feat_info.iterrows():\n",
    "        strArr = row['missing_or_unknown'][1:-1].split(\",\")\n",
    "\n",
    "        for index2 in range(len(strArr)):\n",
    "            finalID = strArr[index2]\n",
    "\n",
    "            if finalID == \"\":\n",
    "                finalID = False\n",
    "            elif finalID != \"X\" and finalID != \"XX\":\n",
    "                finalID = np.float64(finalID)\n",
    "\n",
    "            if finalID:\n",
    "                df_NaN[row['attribute']] = df_NaN[row['attribute']].replace(finalID, np.nan)\n",
    "\n",
    "    print(\"NaN Conversion Done!\")\n",
    "    \n",
    "    plt.hist(df_NaN.isnull().sum(), bins=30)\n",
    "    plt.show()\n",
    "    \n",
    "    # remove selected columns and rows, ...\n",
    "    # Remove outlier columns\n",
    "    nanCounts = df_NaN.isnull().sum().values\n",
    "    nanIndices = df_NaN.isnull().sum().index\n",
    "\n",
    "    dropColumns = []\n",
    "\n",
    "    print(\"Outlier Missing Data Columns are:\")\n",
    "    for i in range(len(nanCounts)):\n",
    "        if nanCounts[i] > round(0.3 * df_NaN.shape[0]):\n",
    "            dropColumns.append(nanIndices[i])\n",
    "    \n",
    "    print(dropColumns)\n",
    "\n",
    "    df_NaN = df_NaN.drop(dropColumns, axis=1)\n",
    "    \n",
    "    print(\"Outlier columns removed. Shape is:\")\n",
    "    print(df_NaN.shape)\n",
    "    \n",
    "    # Remove outlier rows\n",
    "    dfRow_NAN = df_NaN.isnull().sum(axis=1)\n",
    "\n",
    "    plt.hist(dfRow_NAN, bins=30)\n",
    "    \n",
    "    dfRow_less25 = dfRow_NAN[dfRow_NAN <= 25]\n",
    "    dfRow_more25 = dfRow_NAN[dfRow_NAN > 25]\n",
    "\n",
    "    df_less25 = df_NaN.drop(dfRow_more25.index)\n",
    "    df_more25 = df_NaN.drop(dfRow_less25.index)\n",
    "    \n",
    "    print(\"Outlier rows removed. Shape is:\")\n",
    "    print(df_less25.shape)\n",
    "    \n",
    "    # select, re-encode, and engineer column values.\n",
    "    # Re-encode Categorical Variables\n",
    "    multiCat_Cols = []\n",
    "\n",
    "    for index, row in feat_info.iterrows():\n",
    "        if row['attribute'] in df_less25 and row['type'] == \"categorical\":\n",
    "            uniqueSeries = df_less25[row['attribute']].unique()\n",
    "            nanAdj = 1 if df_less25[row['attribute']].isnull().sum() > 0 else 0\n",
    "\n",
    "            if (len(uniqueSeries) - nanAdj) >= 3:\n",
    "                multiCat_Cols.append(row['attribute'])\n",
    "    \n",
    "    df_proc = pd.DataFrame(data=df_less25)\n",
    "    \n",
    "    df_proc['OST_WEST_KZ'] = df_proc['OST_WEST_KZ'].map({'W': 1, 'O': 2})\n",
    "    print(\"OST_WEST_KZ replaced.\")\n",
    "    \n",
    "    multiCat_Cols_DROP = [\"LP_FAMILIE_FEIN\", \"LP_STATUS_FEIN\", \"NATIONALITAET_KZ\", \"TITEL_KZ\", \"ZABEOTYP\", \"CAMEO_DEU_2015\"]\n",
    "    \n",
    "    for j in range(len(multiCat_Cols)):\n",
    "        if not multiCat_Cols[j] in multiCat_Cols_DROP:\n",
    "            # One Hot Encode\n",
    "            df_proc = pd.concat([df_proc, pd.get_dummies(df_proc[multiCat_Cols[j]], prefix=multiCat_Cols[j])], axis=1)\n",
    "      \n",
    "    # Add Missing Column (GEBAEUDETYP_5.0)\n",
    "    df_proc['GEBAEUDETYP_5.0'] = 0\n",
    "    \n",
    "#     print(df_proc.columns.values)\n",
    "    \n",
    "    df_proc.drop(multiCat_Cols_DROP, axis=1, inplace=True)\n",
    "    \n",
    "    reencodedDrops = ['CJT_GESAMTTYP', 'FINANZTYP', 'GFK_URLAUBERTYP', 'LP_FAMILIE_GROB', 'LP_STATUS_GROB', 'SHOPPER_TYP', 'GEBAEUDETYP', 'CAMEO_DEUG_2015']\n",
    "\n",
    "    df_proc.drop(reencodedDrops, axis=1, inplace=True)\n",
    "\n",
    "    print(\"Categorical variables processed. New shape is:\")\n",
    "    print(df_proc.shape)\n",
    "    \n",
    "    # Re-encode Multi variables\n",
    "    # PRAEGENDE_JUGENDJAHRE\n",
    "    def decadeMap(c):\n",
    "        if 1 <= c['PRAEGENDE_JUGENDJAHRE'] <= 2:\n",
    "            return 40\n",
    "        elif 3 <= c['PRAEGENDE_JUGENDJAHRE'] <= 4:\n",
    "            return 50\n",
    "        elif 5 <= c['PRAEGENDE_JUGENDJAHRE'] <= 7:\n",
    "            return 60\n",
    "        elif 8 <= c['PRAEGENDE_JUGENDJAHRE'] <= 9:\n",
    "            return 70\n",
    "        elif 10 <= c['PRAEGENDE_JUGENDJAHRE'] <= 13:\n",
    "            return 80\n",
    "        elif 14 <= c['PRAEGENDE_JUGENDJAHRE']:\n",
    "            return 90\n",
    "        else:\n",
    "            return np.nan\n",
    "    \n",
    "    df_proc['decade'] = df_proc.apply(decadeMap, axis=1)\n",
    "    print(\"decade feature generated.\")\n",
    "    \n",
    "    def movementMap(c):\n",
    "        if c['PRAEGENDE_JUGENDJAHRE'] == 1 or c['PRAEGENDE_JUGENDJAHRE'] == 3 or c['PRAEGENDE_JUGENDJAHRE'] == 5 or c['PRAEGENDE_JUGENDJAHRE'] == 8 or c['PRAEGENDE_JUGENDJAHRE'] == 10 or c['PRAEGENDE_JUGENDJAHRE'] == 12 or c['PRAEGENDE_JUGENDJAHRE'] == 14:\n",
    "            return 1\n",
    "        elif c['PRAEGENDE_JUGENDJAHRE'] == 2 or c['PRAEGENDE_JUGENDJAHRE'] == 4 or c['PRAEGENDE_JUGENDJAHRE'] == 6 or c['PRAEGENDE_JUGENDJAHRE'] == 7 or c['PRAEGENDE_JUGENDJAHRE'] == 9 or c['PRAEGENDE_JUGENDJAHRE'] == 11 or c['PRAEGENDE_JUGENDJAHRE'] == 13 or c['PRAEGENDE_JUGENDJAHRE'] == 15:\n",
    "            return 2\n",
    "        else:\n",
    "            return np.nan\n",
    "    \n",
    "    df_proc['movement'] = df_proc.apply(movementMap, axis=1)\n",
    "    print(\"movement feature generated.\")\n",
    "    \n",
    "    # CAMEO_INTL_2015\n",
    "    def wealthMap(c):\n",
    "        finalParam = np.int64(c['CAMEO_INTL_2015']) if type(c['CAMEO_INTL_2015']) is str else c['CAMEO_INTL_2015']\n",
    "\n",
    "        if c['CAMEO_INTL_2015'] == np.nan or math.isnan(finalParam):\n",
    "            return np.nan\n",
    "        elif 10 <= finalParam < 20:\n",
    "            return 1\n",
    "        elif 20 <= finalParam < 30:\n",
    "            return 2\n",
    "        elif 30 <= finalParam < 40:\n",
    "            return 3\n",
    "        elif 40 <= finalParam < 50:\n",
    "            return 4\n",
    "        elif 50 <= finalParam < 60:\n",
    "            return 5\n",
    "\n",
    "    df_proc['wealth'] = df_proc.apply(wealthMap, axis=1)\n",
    "\n",
    "    print(\"wealth feature generated.\")\n",
    "\n",
    "    def lifestageMap(c):\n",
    "        finalParam = np.int64(c['CAMEO_INTL_2015']) if type(c['CAMEO_INTL_2015']) is str else c['CAMEO_INTL_2015']\n",
    "\n",
    "        if c['CAMEO_INTL_2015'] == np.nan or math.isnan(finalParam):\n",
    "            return np.nan\n",
    "        elif 10 <= finalParam < 60:\n",
    "            return (finalParam % 10)\n",
    "\n",
    "    df_proc['lifestage'] = df_proc.apply(lifestageMap, axis=1)\n",
    "\n",
    "    print(\"lifestage feature generated.\")\n",
    "    \n",
    "    df_proc.drop([\"PRAEGENDE_JUGENDJAHRE\", \"CAMEO_INTL_2015\"], axis=1, inplace=True)\n",
    "    \n",
    "    mixed_Cols = []\n",
    "    for index, row in feat_info.iterrows():\n",
    "        if row['attribute'] in df_proc and row['type'] == \"mixed\" and row['attribute'] != \"PRAEGENDE_JUGENDJAHRE\" and row['attribute'] != \"CAMEO_INTL_2015\":\n",
    "            mixed_Cols.append(row['attribute'])\n",
    "\n",
    "    print(\"Dropping Mixed Categorical Variables:\")\n",
    "    print(mixed_Cols)\n",
    "    \n",
    "    df_proc.drop(mixed_Cols, axis=1, inplace=True)\n",
    "    \n",
    "    print(\"Mixed variables processed. New shape is:\")\n",
    "    print(df_proc.shape)\n",
    "    \n",
    "    # Return the cleaned dataframe.\n",
    "    df_proc = df_proc.astype(np.float64)\n",
    "\n",
    "    df_proc = df_proc.fillna(df_proc.mean())\n",
    "    \n",
    "    print(np.any(np.isnan(azdias_fin)))\n",
    "\n",
    "    print(np.all(np.isfinite(azdias_fin)))\n",
    "    \n",
    "    return df_proc"
   ]
  },
  {
   "cell_type": "markdown",
   "metadata": {},
   "source": [
    "## Step 2: Feature Transformation\n",
    "\n",
    "### Step 2.1: Apply Feature Scaling\n",
    "\n",
    "Before we apply dimensionality reduction techniques to the data, we need to perform feature scaling so that the principal component vectors are not influenced by the natural differences in scale for features. Starting from this part of the project, you'll want to keep an eye on the [API reference page for sklearn](http://scikit-learn.org/stable/modules/classes.html) to help you navigate to all of the classes and functions that you'll need. In this substep, you'll need to check the following:\n",
    "\n",
    "- sklearn requires that data not have missing values in order for its estimators to work properly. So, before applying the scaler to your data, make sure that you've cleaned the DataFrame of the remaining missing values. This can be as simple as just removing all data points with missing data, or applying an [Imputer](http://scikit-learn.org/stable/modules/generated/sklearn.preprocessing.Imputer.html) to replace all missing values. You might also try a more complicated procedure where you temporarily remove missing values in order to compute the scaling parameters before re-introducing those missing values and applying imputation. Think about how much missing data you have and what possible effects each approach might have on your analysis, and justify your decision in the discussion section below.\n",
    "- For the actual scaling function, a [StandardScaler](http://scikit-learn.org/stable/modules/generated/sklearn.preprocessing.StandardScaler.html) instance is suggested, scaling each feature to mean 0 and standard deviation 1.\n",
    "- For these classes, you can make use of the `.fit_transform()` method to both fit a procedure to the data as well as apply the transformation to the data at the same time. Don't forget to keep the fit sklearn objects handy, since you'll be applying them to the customer demographics data towards the end of the project."
   ]
  },
  {
   "cell_type": "code",
   "execution_count": 103,
   "metadata": {},
   "outputs": [],
   "source": [
    "# If you've not yet cleaned the dataset of all NaN values, then investigate and\n",
    "# do that now.\n",
    "\n",
    "azdias_fin = azdias_proc.astype(np.float64)\n",
    "\n",
    "azdias_fin = azdias_fin.fillna(azdias_fin.mean())"
   ]
  },
  {
   "cell_type": "code",
   "execution_count": 104,
   "metadata": {},
   "outputs": [
    {
     "name": "stdout",
     "output_type": "stream",
     "text": [
      "False\n",
      "True\n"
     ]
    }
   ],
   "source": [
    "# Check for NaN or Infinite values (causes errors for StandardScaler)\n",
    "for col in azdias_fin:\n",
    "    if azdias_fin[col].isnull().sum() > 0:\n",
    "        print(col)\n",
    "        print(azdias_fin[col].describe())\n",
    "        print(azdias_fin[col].unique())\n",
    "        print('data type:')\n",
    "        print(azdias_fin[col].dtypes)\n",
    "        print(azdias_fin[col].head())\n",
    "        print(\"----------------\")\n",
    "    \n",
    "# azdias_fin.drop([\"FINANZTYP\", \"KONSUMNAEHE\", \"REGIOTYP\" ], axis=1, inplace=True)\n",
    "\n",
    "print(np.any(np.isnan(azdias_fin)))\n",
    "\n",
    "print(np.all(np.isfinite(azdias_fin)))"
   ]
  },
  {
   "cell_type": "code",
   "execution_count": 105,
   "metadata": {},
   "outputs": [],
   "source": [
    "# Apply feature scaling to the general population demographics data.\n",
    "\n",
    "from sklearn.preprocessing import StandardScaler\n",
    "ss = StandardScaler()\n",
    "X_ss = ss.fit_transform(azdias_fin) # Fit and transform the data\n",
    "\n",
    "# df_ss = pd.DataFrame(df_ss) #create a dataframe\n",
    "# df_ss.columns = ['height', 'weight'] #add column names again"
   ]
  },
  {
   "cell_type": "markdown",
   "metadata": {},
   "source": [
    "### Discussion 2.1: Apply Feature Scaling\n",
    "\n",
    "When pre-processing the NaNs before scaling it via StandardScaler, I decided to **fill the missing values (the \"NaN\"s) with the mean of that column**. This should be an appropiate treatment because compared to the dataset (79,800 people), the number of people with more than 5 missing data points is miniscule. As we are using more than half the features in our modelling, using the average for these few missing data points would yield conservative predictions."
   ]
  },
  {
   "cell_type": "markdown",
   "metadata": {},
   "source": [
    "### Step 2.2: Perform Dimensionality Reduction\n",
    "\n",
    "On your scaled data, you are now ready to apply dimensionality reduction techniques.\n",
    "\n",
    "- Use sklearn's [PCA](http://scikit-learn.org/stable/modules/generated/sklearn.decomposition.PCA.html) class to apply principal component analysis on the data, thus finding the vectors of maximal variance in the data. To start, you should not set any parameters (so all components are computed) or set a number of components that is at least half the number of features (so there's enough features to see the general trend in variability).\n",
    "- Check out the ratio of variance explained by each principal component as well as the cumulative variance explained. Try plotting the cumulative or sequential values using matplotlib's [`plot()`](https://matplotlib.org/api/_as_gen/matplotlib.pyplot.plot.html) function. Based on what you find, select a value for the number of transformed features you'll retain for the clustering part of the project.\n",
    "- Once you've made a choice for the number of components to keep, make sure you re-fit a PCA instance to perform the decided-on transformation."
   ]
  },
  {
   "cell_type": "code",
   "execution_count": 106,
   "metadata": {},
   "outputs": [],
   "source": [
    "from sklearn.decomposition import PCA\n",
    "\n",
    "def do_pca(n_components, X):\n",
    "    '''\n",
    "    Transforms data using PCA to create n_components, and provides back the results of the\n",
    "    transformation.\n",
    "    \n",
    "    INPUT: n_components - int - the number of principal components to create\n",
    "           data - the data you would like to transform\n",
    "           \n",
    "    OUTPUT: pca - the pca object created after fitting the data\n",
    "            X_pca - the transformed X matrix with new number of components\n",
    "    '''\n",
    "#     X = StandardScaler().fit_transform(data)\n",
    "    pca = PCA(n_components)\n",
    "    X_pca = pca.fit_transform(X)\n",
    "    return pca, X_pca"
   ]
  },
  {
   "cell_type": "code",
   "execution_count": 107,
   "metadata": {},
   "outputs": [],
   "source": [
    "# Apply PCA to the data.\n",
    "pca, X_pca = do_pca(100, X_ss)"
   ]
  },
  {
   "cell_type": "code",
   "execution_count": 108,
   "metadata": {},
   "outputs": [],
   "source": [
    "def scree_plot(pca):\n",
    "    '''\n",
    "    Creates a scree plot associated with the principal components \n",
    "    \n",
    "    INPUT: pca - the result of instantian of PCA in scikit learn\n",
    "            \n",
    "    OUTPUT:\n",
    "            None\n",
    "    '''\n",
    "    num_components = len(pca.explained_variance_ratio_)\n",
    "    ind = np.arange(num_components)\n",
    "    vals = pca.explained_variance_ratio_\n",
    " \n",
    "    plt.figure(figsize=(10, 6))\n",
    "    ax = plt.subplot(111)\n",
    "    cumvals = np.cumsum(vals)\n",
    "    ax.bar(ind, vals)\n",
    "    ax.plot(ind, cumvals)\n",
    "    for i in range(num_components):\n",
    "        ax.annotate(r\"%s%%\" % ((str(vals[i]*100)[:4])), (ind[i]+0.2, vals[i]), va=\"bottom\", ha=\"center\", fontsize=12)\n",
    " \n",
    "    ax.xaxis.set_tick_params(width=0)\n",
    "    ax.yaxis.set_tick_params(width=2, length=12)\n",
    " \n",
    "    ax.set_xlabel(\"Principal Component\")\n",
    "    ax.set_ylabel(\"Variance Explained (%)\")\n",
    "    plt.title('Explained Variance Per Principal Component')"
   ]
  },
  {
   "cell_type": "code",
   "execution_count": 109,
   "metadata": {},
   "outputs": [
    {
     "data": {
      "image/png": "[encoded data removed]",
      "text/plain": [
       "<matplotlib.figure.Figure at 0x7f0f00edc4e0>"
      ]
     },
     "metadata": {
      "needs_background": "light"
     },
     "output_type": "display_data"
    }
   ],
   "source": [
    "# Investigate the variance accounted for by each principal component.\n",
    "\n",
    "scree_plot(pca)"
   ]
  },
  {
   "cell_type": "code",
   "execution_count": 110,
   "metadata": {},
   "outputs": [],
   "source": [
    "# Re-apply PCA to the data while selecting for number of components to retain.\n",
    "\n",
    "pcaF, X_pcaF = do_pca(75, X_ss)"
   ]
  },
  {
   "cell_type": "markdown",
   "metadata": {},
   "source": [
    "### Discussion 2.2: Perform Dimensionality Reduction\n",
    "\n",
    "Based on the scree plot, the cumulative variance reaches a bit above 90% with a principal component of around 75. Thus, I decided to retain **75 principal components for the next step of the analysis**.\n",
    "\n",
    "The performance gains from the dimensionality reduction is clearly evident here, with the number of features reduced from 121 to 75 (~38% reduction), which could probably be improved with further iterations.\n",
    "\n",
    "It's also noteworthy that the first 3 features account for around 25% of the cumulative variance, and will prove instrumental in training the model. Naturally, it would be crucial to try minimize the number of missing data of features that heavily influence these principal components."
   ]
  },
  {
   "cell_type": "markdown",
   "metadata": {},
   "source": [
    "### Step 2.3: Interpret Principal Components\n",
    "\n",
    "Now that we have our transformed principal components, it's a nice idea to check out the weight of each variable on the first few components to see if they can be interpreted in some fashion.\n",
    "\n",
    "As a reminder, each principal component is a unit vector that points in the direction of highest variance (after accounting for the variance captured by earlier principal components). The further a weight is from zero, the more the principal component is in the direction of the corresponding feature. If two features have large weights of the same sign (both positive or both negative), then increases in one tend expect to be associated with increases in the other. To contrast, features with different signs can be expected to show a negative correlation: increases in one variable should result in a decrease in the other.\n",
    "\n",
    "- To investigate the features, you should map each weight to their corresponding feature name, then sort the features according to weight. The most interesting features for each principal component, then, will be those at the beginning and end of the sorted list. Use the data dictionary document to help you understand these most prominent features, their relationships, and what a positive or negative value on the principal component might indicate.\n",
    "- You should investigate and interpret feature associations from the first three principal components in this substep. To help facilitate this, you should write a function that you can call at any time to print the sorted list of feature weights, for the *i*-th principal component. This might come in handy in the next step of the project, when you interpret the tendencies of the discovered clusters."
   ]
  },
  {
   "cell_type": "code",
   "execution_count": 111,
   "metadata": {},
   "outputs": [],
   "source": [
    "# HINT: Try defining a function here or in a new cell that you can reuse in the\n",
    "# other cells.\n",
    "\n",
    "import operator\n",
    "import pprint\n",
    "\n",
    "def pca_results(full_dataset, pca, pcaNo):\n",
    "    '''\n",
    "    Create a DataFrame of the PCA results\n",
    "    Includes dimension feature weights and explained variance\n",
    "    Visualizes the PCA results\n",
    "    '''\n",
    "    \n",
    "#     Create list of features, mapped to PCA's weights\n",
    "    featureDict = dict(zip(full_dataset.keys(), np.round(pca.components_[pcaNo], 4)))\n",
    "#     print(featureDict)\n",
    "    \n",
    "#     Sort features list\n",
    "#     featureDict = sorted(featureDict.values())\n",
    "    featureDict = sorted(featureDict.items(), key=operator.itemgetter(1))\n",
    "    \n",
    "    pprint.pprint(featureDict)"
   ]
  },
  {
   "cell_type": "code",
   "execution_count": 112,
   "metadata": {},
   "outputs": [
    {
     "name": "stdout",
     "output_type": "stream",
     "text": [
      "[('MOBI_REGIO', -0.21970000000000001),\n",
      " ('FINANZ_MINIMALIST', -0.20569999999999999),\n",
      " ('KBA05_ANTG1', -0.20519999999999999),\n",
      " ('PLZ8_ANTG1', -0.19919999999999999),\n",
      " ('KBA05_GBZ', -0.1958),\n",
      " ('KONSUMNAEHE', -0.14949999999999999),\n",
      " ('PLZ8_GBZ', -0.1462),\n",
      " ('INNENSTADT', -0.14199999999999999),\n",
      " ('LP_STATUS_GROB_4.0', -0.11990000000000001),\n",
      " ('lifestage', -0.1172),\n",
      " ('LP_STATUS_GROB_5.0', -0.1171),\n",
      " ('BALLRAUM', -0.1087),\n",
      " ('GEBAEUDETYP_RASTER', -0.107),\n",
      " ('GREEN_AVANTGARDE', -0.1056),\n",
      " ('movement', -0.1032),\n",
      " ('ALTERSKATEGORIE_GROB', -0.0998),\n",
      " ('FINANZ_VORSORGER', -0.097600000000000006),\n",
      " ('GEBAEUDETYP_1.0', -0.0974),\n",
      " ('CAMEO_DEUG_2015_2', -0.092799999999999994),\n",
      " ('FINANZTYP_2', -0.089300000000000004),\n",
      " ('ANZ_PERSONEN', -0.079500000000000001),\n",
      " ('CAMEO_DEUG_2015_4', -0.076499999999999999),\n",
      " ('CAMEO_DEUG_2015_3', -0.069199999999999998),\n",
      " ('KBA13_ANZAHL_PKW', -0.067100000000000007),\n",
      " ('LP_FAMILIE_GROB_5.0', -0.060999999999999999),\n",
      " ('SEMIO_LUST', -0.059700000000000003),\n",
      " ('SEMIO_ERL', -0.0596),\n",
      " ('WOHNDAUER_2008', -0.053999999999999999),\n",
      " ('CJT_GESAMTTYP_2.0', -0.052600000000000001),\n",
      " ('FINANZTYP_3', -0.051999999999999998),\n",
      " ('MIN_GEBAEUDEJAHR', -0.050700000000000002),\n",
      " ('CAMEO_DEUG_2015_1', -0.049200000000000001),\n",
      " ('ONLINE_AFFINITAET', -0.048899999999999999),\n",
      " ('GFK_URLAUBERTYP_7.0', -0.044499999999999998),\n",
      " ('SEMIO_VERT', -0.043200000000000002),\n",
      " ('SHOPPER_TYP_3.0', -0.038899999999999997),\n",
      " ('FINANZTYP_6', -0.033300000000000003),\n",
      " ('GFK_URLAUBERTYP_6.0', -0.031),\n",
      " ('LP_FAMILIE_GROB_2.0', -0.030599999999999999),\n",
      " ('GFK_URLAUBERTYP_5.0', -0.029600000000000001),\n",
      " ('LP_FAMILIE_GROB_4.0', -0.027799999999999998),\n",
      " ('LP_STATUS_GROB_3.0', -0.026499999999999999),\n",
      " ('GEBURTSJAHR', -0.024199999999999999),\n",
      " ('ALTER_HH', -0.023800000000000002),\n",
      " ('CJT_GESAMTTYP_1.0', -0.020299999999999999),\n",
      " ('GEBAEUDETYP_2.0', -0.0189),\n",
      " ('GFK_URLAUBERTYP_2.0', -0.018800000000000001),\n",
      " ('SHOPPER_TYP_0.0', -0.018200000000000001),\n",
      " ('GFK_URLAUBERTYP_1.0', -0.017500000000000002),\n",
      " ('LP_STATUS_GROB_2.0', -0.0161),\n",
      " ('GFK_URLAUBERTYP_3.0', -0.0144),\n",
      " ('RETOURTYP_BK_S', -0.0143),\n",
      " ('CAMEO_DEUG_2015_5', -0.0104),\n",
      " ('GEBAEUDETYP_4.0', -0.0058999999999999999),\n",
      " ('ANZ_TITEL', -0.0043),\n",
      " ('GEBAEUDETYP_6.0', -0.0038),\n",
      " ('SOHO_KZ', -0.002),\n",
      " ('GFK_URLAUBERTYP_10.0', -0.0015),\n",
      " ('SHOPPER_TYP_1.0', -0.0015),\n",
      " ('GFK_URLAUBERTYP_9.0', 0.00040000000000000002),\n",
      " ('GEBAEUDETYP_5.0', 0.00040000000000000002),\n",
      " ('CAMEO_DEUG_2015_6', 0.0022000000000000001),\n",
      " ('FINANZTYP_5', 0.0051999999999999998),\n",
      " ('LP_FAMILIE_GROB_0.0', 0.0054000000000000003),\n",
      " ('GFK_URLAUBERTYP_8.0', 0.0057999999999999996),\n",
      " ('LP_FAMILIE_GROB_3.0', 0.0070000000000000001),\n",
      " ('SEMIO_KRIT', 0.01),\n",
      " ('FINANZTYP_4', 0.010200000000000001),\n",
      " ('KBA05_ANTG2', 0.0104),\n",
      " ('CJT_GESAMTTYP_5.0', 0.010500000000000001),\n",
      " ('ANREDE_KZ', 0.0123),\n",
      " ('GFK_URLAUBERTYP_4.0', 0.013599999999999999),\n",
      " ('CJT_GESAMTTYP_6.0', 0.016799999999999999),\n",
      " ('CJT_GESAMTTYP_3.0', 0.020899999999999998),\n",
      " ('CJT_GESAMTTYP_4.0', 0.022100000000000002),\n",
      " ('VERS_TYP', 0.0247),\n",
      " ('SEMIO_DOM', 0.0253),\n",
      " ('GFK_URLAUBERTYP_11.0', 0.027799999999999998),\n",
      " ('HEALTH_TYP', 0.028400000000000002),\n",
      " ('ANZ_HH_TITEL', 0.030099999999999998),\n",
      " ('W_KEIT_KIND_HH', 0.030800000000000001),\n",
      " ('SEMIO_SOZ', 0.031600000000000003),\n",
      " ('CAMEO_DEUG_2015_7', 0.0361),\n",
      " ('PLZ8_HHZ', 0.037900000000000003),\n",
      " ('SHOPPER_TYP_2.0', 0.037900000000000003),\n",
      " ('SEMIO_KAEM', 0.039300000000000002),\n",
      " ('OST_WEST_KZ', 0.044900000000000002),\n",
      " ('GEBAEUDETYP_8.0', 0.048000000000000001),\n",
      " ('KKK', 0.054699999999999999),\n",
      " ('SEMIO_KULT', 0.056599999999999998),\n",
      " ('SEMIO_FAM', 0.062300000000000001),\n",
      " ('GFK_URLAUBERTYP_12.0', 0.062399999999999997),\n",
      " ('FINANZ_UNAUFFAELLIGER', 0.062700000000000006),\n",
      " ('FINANZ_ANLEGER', 0.064000000000000001),\n",
      " ('SEMIO_MAT', 0.064500000000000002),\n",
      " ('SEMIO_TRADV', 0.071900000000000006),\n",
      " ('GEBAEUDETYP_3.0', 0.074499999999999997),\n",
      " ('REGIOTYP', 0.076100000000000001),\n",
      " ('SEMIO_RAT', 0.081100000000000005),\n",
      " ('LP_FAMILIE_GROB_1.0', 0.081600000000000006),\n",
      " ('decade', 0.086699999999999999),\n",
      " ('SEMIO_REL', 0.093799999999999994),\n",
      " ('CAMEO_DEUG_2015_8', 0.097299999999999998),\n",
      " ('SEMIO_PFLICHT', 0.097799999999999998),\n",
      " ('RELAT_AB', 0.11799999999999999),\n",
      " ('CAMEO_DEUG_2015_9', 0.12039999999999999),\n",
      " ('KBA05_ANTG3', 0.12239999999999999),\n",
      " ('ARBEIT', 0.12429999999999999),\n",
      " ('FINANZTYP_1', 0.12470000000000001),\n",
      " ('ANZ_HAUSHALTE_AKTIV', 0.12529999999999999),\n",
      " ('FINANZ_SPARER', 0.13059999999999999),\n",
      " ('PLZ8_ANTG2', 0.13619999999999999),\n",
      " ('KBA05_ANTG4', 0.1381),\n",
      " ('FINANZ_HAUSBAUER', 0.15490000000000001),\n",
      " ('EWDICHTE', 0.17000000000000001),\n",
      " ('ORTSGR_KLS9', 0.17130000000000001),\n",
      " ('PLZ8_ANTG4', 0.193),\n",
      " ('HH_EINKOMMEN_SCORE', 0.19320000000000001),\n",
      " ('wealth', 0.19470000000000001),\n",
      " ('PLZ8_ANTG3', 0.19900000000000001),\n",
      " ('LP_STATUS_GROB_1.0', 0.2056)]\n"
     ]
    }
   ],
   "source": [
    "# Map weights for the first principal component to corresponding feature names\n",
    "# and then print the linked values, sorted by weight.\n",
    "pca_results(azdias_fin, pcaF, 0)"
   ]
  },
  {
   "cell_type": "code",
   "execution_count": 113,
   "metadata": {},
   "outputs": [
    {
     "name": "stdout",
     "output_type": "stream",
     "text": [
      "[('decade', -0.247),\n",
      " ('FINANZ_SPARER', -0.23119999999999999),\n",
      " ('SEMIO_REL', -0.22770000000000001),\n",
      " ('FINANZ_UNAUFFAELLIGER', -0.22309999999999999),\n",
      " ('SEMIO_TRADV', -0.21410000000000001),\n",
      " ('SEMIO_PFLICHT', -0.21290000000000001),\n",
      " ('FINANZ_ANLEGER', -0.2049),\n",
      " ('SEMIO_KULT', -0.1827),\n",
      " ('ONLINE_AFFINITAET', -0.1694),\n",
      " ('SEMIO_RAT', -0.1691),\n",
      " ('SEMIO_FAM', -0.151),\n",
      " ('SEMIO_MAT', -0.1429),\n",
      " ('FINANZTYP_1', -0.12659999999999999),\n",
      " ('ALTER_HH', -0.10100000000000001),\n",
      " ('FINANZTYP_4', -0.096100000000000005),\n",
      " ('FINANZTYP_3', -0.086599999999999996),\n",
      " ('PLZ8_ANTG1', -0.077399999999999997),\n",
      " ('SEMIO_SOZ', -0.0751),\n",
      " ('MOBI_REGIO', -0.0751),\n",
      " ('KBA05_GBZ', -0.074200000000000002),\n",
      " ('GFK_URLAUBERTYP_9.0', -0.073999999999999996),\n",
      " ('LP_FAMILIE_GROB_4.0', -0.0688),\n",
      " ('KBA05_ANTG1', -0.066299999999999998),\n",
      " ('ANZ_PERSONEN', -0.066000000000000003),\n",
      " ('INNENSTADT', -0.061600000000000002),\n",
      " ('PLZ8_GBZ', -0.0613),\n",
      " ('KONSUMNAEHE', -0.061100000000000002),\n",
      " ('CJT_GESAMTTYP_4.0', -0.061100000000000002),\n",
      " ('GEBURTSJAHR', -0.059400000000000001),\n",
      " ('SHOPPER_TYP_0.0', -0.057000000000000002),\n",
      " ('HEALTH_TYP', -0.055899999999999998),\n",
      " ('MIN_GEBAEUDEJAHR', -0.050700000000000002),\n",
      " ('BALLRAUM', -0.049799999999999997),\n",
      " ('GFK_URLAUBERTYP_2.0', -0.0487),\n",
      " ('CJT_GESAMTTYP_6.0', -0.043900000000000002),\n",
      " ('LP_FAMILIE_GROB_3.0', -0.042599999999999999),\n",
      " ('LP_FAMILIE_GROB_5.0', -0.041799999999999997),\n",
      " ('GEBAEUDETYP_RASTER', -0.040000000000000001),\n",
      " ('SEMIO_VERT', -0.039399999999999998),\n",
      " ('CAMEO_DEUG_2015_4', -0.038800000000000001),\n",
      " ('GFK_URLAUBERTYP_12.0', -0.038600000000000002),\n",
      " ('CJT_GESAMTTYP_3.0', -0.036600000000000001),\n",
      " ('CJT_GESAMTTYP_5.0', -0.0356),\n",
      " ('CAMEO_DEUG_2015_2', -0.031600000000000003),\n",
      " ('KBA13_ANZAHL_PKW', -0.031399999999999997),\n",
      " ('SHOPPER_TYP_1.0', -0.0309),\n",
      " ('GEBAEUDETYP_1.0', -0.029999999999999999),\n",
      " ('CAMEO_DEUG_2015_3', -0.026499999999999999),\n",
      " ('GFK_URLAUBERTYP_1.0', -0.0235),\n",
      " ('LP_STATUS_GROB_4.0', -0.022599999999999999),\n",
      " ('LP_STATUS_GROB_2.0', -0.017399999999999999),\n",
      " ('GFK_URLAUBERTYP_11.0', -0.0161),\n",
      " ('GREEN_AVANTGARDE', -0.011900000000000001),\n",
      " ('movement', -0.010200000000000001),\n",
      " ('KBA05_ANTG2', -0.0086999999999999994),\n",
      " ('CAMEO_DEUG_2015_5', -0.0067000000000000002),\n",
      " ('CAMEO_DEUG_2015_1', -0.0038999999999999998),\n",
      " ('LP_STATUS_GROB_3.0', -0.0027000000000000001),\n",
      " ('SOHO_KZ', -0.0019),\n",
      " ('GEBAEUDETYP_5.0', 0.00020000000000000001),\n",
      " ('GEBAEUDETYP_6.0', 0.0014),\n",
      " ('GEBAEUDETYP_4.0', 0.0016999999999999999),\n",
      " ('LP_STATUS_GROB_5.0', 0.0035000000000000001),\n",
      " ('lifestage', 0.0038999999999999998),\n",
      " ('GEBAEUDETYP_2.0', 0.0064000000000000003),\n",
      " ('ANZ_TITEL', 0.0070000000000000001),\n",
      " ('GEBAEUDETYP_8.0', 0.0076),\n",
      " ('SHOPPER_TYP_2.0', 0.0083999999999999995),\n",
      " ('GFK_URLAUBERTYP_10.0', 0.0088000000000000005),\n",
      " ('PLZ8_HHZ', 0.010500000000000001),\n",
      " ('CAMEO_DEUG_2015_7', 0.0129),\n",
      " ('CAMEO_DEUG_2015_6', 0.014),\n",
      " ('KKK', 0.016299999999999999),\n",
      " ('LP_FAMILIE_GROB_0.0', 0.016400000000000001),\n",
      " ('GFK_URLAUBERTYP_6.0', 0.019400000000000001),\n",
      " ('GFK_URLAUBERTYP_5.0', 0.023599999999999999),\n",
      " ('GFK_URLAUBERTYP_8.0', 0.023699999999999999),\n",
      " ('OST_WEST_KZ', 0.024199999999999999),\n",
      " ('GEBAEUDETYP_3.0', 0.0269),\n",
      " ('CAMEO_DEUG_2015_9', 0.027199999999999998),\n",
      " ('VERS_TYP', 0.028000000000000001),\n",
      " ('ANZ_HH_TITEL', 0.028299999999999999),\n",
      " ('REGIOTYP', 0.029000000000000001),\n",
      " ('LP_STATUS_GROB_1.0', 0.031300000000000001),\n",
      " ('GFK_URLAUBERTYP_3.0', 0.032800000000000003),\n",
      " ('LP_FAMILIE_GROB_2.0', 0.032800000000000003),\n",
      " ('KBA05_ANTG3', 0.034700000000000002),\n",
      " ('SEMIO_DOM', 0.042700000000000002),\n",
      " ('CAMEO_DEUG_2015_8', 0.042799999999999998),\n",
      " ('GFK_URLAUBERTYP_7.0', 0.043900000000000002),\n",
      " ('HH_EINKOMMEN_SCORE', 0.049299999999999997),\n",
      " ('PLZ8_ANTG2', 0.054600000000000003),\n",
      " ('ANZ_HAUSHALTE_AKTIV', 0.055800000000000002),\n",
      " ('RELAT_AB', 0.055800000000000002),\n",
      " ('ANREDE_KZ', 0.056599999999999998),\n",
      " ('LP_FAMILIE_GROB_1.0', 0.0567),\n",
      " ('WOHNDAUER_2008', 0.058700000000000002),\n",
      " ('ARBEIT', 0.058900000000000001),\n",
      " ('KBA05_ANTG4', 0.059299999999999999),\n",
      " ('GFK_URLAUBERTYP_4.0', 0.062899999999999998),\n",
      " ('FINANZTYP_6', 0.068099999999999994),\n",
      " ('wealth', 0.069099999999999995),\n",
      " ('CJT_GESAMTTYP_1.0', 0.074300000000000005),\n",
      " ('PLZ8_ANTG4', 0.075300000000000006),\n",
      " ('ORTSGR_KLS9', 0.076200000000000004),\n",
      " ('SEMIO_KAEM', 0.076499999999999999),\n",
      " ('EWDICHTE', 0.077299999999999994),\n",
      " ('FINANZ_MINIMALIST', 0.077899999999999997),\n",
      " ('PLZ8_ANTG3', 0.079000000000000001),\n",
      " ('SHOPPER_TYP_3.0', 0.081199999999999994),\n",
      " ('SEMIO_KRIT', 0.086499999999999994),\n",
      " ('FINANZTYP_2', 0.095500000000000002),\n",
      " ('FINANZTYP_5', 0.1003),\n",
      " ('FINANZ_HAUSBAUER', 0.1048),\n",
      " ('CJT_GESAMTTYP_2.0', 0.1144),\n",
      " ('W_KEIT_KIND_HH', 0.12820000000000001),\n",
      " ('RETOURTYP_BK_S', 0.1603),\n",
      " ('SEMIO_LUST', 0.17219999999999999),\n",
      " ('SEMIO_ERL', 0.19750000000000001),\n",
      " ('FINANZ_VORSORGER', 0.2273),\n",
      " ('ALTERSKATEGORIE_GROB', 0.24310000000000001)]\n"
     ]
    }
   ],
   "source": [
    "# Map weights for the second principal component to corresponding feature names\n",
    "# and then print the linked values, sorted by weight.\n",
    "\n",
    "pca_results(azdias_fin, pcaF, 1)"
   ]
  },
  {
   "cell_type": "code",
   "execution_count": 114,
   "metadata": {},
   "outputs": [
    {
     "name": "stdout",
     "output_type": "stream",
     "text": [
      "[('ANREDE_KZ', -0.35849999999999999),\n",
      " ('SEMIO_KAEM', -0.33129999999999998),\n",
      " ('SEMIO_DOM', -0.30330000000000001),\n",
      " ('SEMIO_KRIT', -0.2732),\n",
      " ('SEMIO_ERL', -0.2006),\n",
      " ('SEMIO_RAT', -0.1799),\n",
      " ('FINANZ_ANLEGER', -0.1603),\n",
      " ('FINANZTYP_1', -0.11119999999999999),\n",
      " ('SHOPPER_TYP_2.0', -0.099099999999999994),\n",
      " ('FINANZ_SPARER', -0.073099999999999998),\n",
      " ('decade', -0.072900000000000006),\n",
      " ('FINANZ_UNAUFFAELLIGER', -0.068000000000000005),\n",
      " ('SHOPPER_TYP_3.0', -0.051799999999999999),\n",
      " ('LP_FAMILIE_GROB_3.0', -0.050299999999999997),\n",
      " ('FINANZ_HAUSBAUER', -0.049000000000000002),\n",
      " ('SEMIO_PFLICHT', -0.043499999999999997),\n",
      " ('INNENSTADT', -0.041599999999999998),\n",
      " ('PLZ8_ANTG1', -0.041500000000000002),\n",
      " ('SEMIO_TRADV', -0.0407),\n",
      " ('ONLINE_AFFINITAET', -0.037999999999999999),\n",
      " ('KONSUMNAEHE', -0.0373),\n",
      " ('CJT_GESAMTTYP_6.0', -0.036999999999999998),\n",
      " ('BALLRAUM', -0.034700000000000002),\n",
      " ('PLZ8_GBZ', -0.033799999999999997),\n",
      " ('GEBAEUDETYP_RASTER', -0.033000000000000002),\n",
      " ('GFK_URLAUBERTYP_9.0', -0.031199999999999999),\n",
      " ('GEBAEUDETYP_1.0', -0.025000000000000001),\n",
      " ('MOBI_REGIO', -0.024400000000000002),\n",
      " ('LP_STATUS_GROB_2.0', -0.024),\n",
      " ('GEBURTSJAHR', -0.0235),\n",
      " ('ALTER_HH', -0.0223),\n",
      " ('CAMEO_DEUG_2015_4', -0.022200000000000001),\n",
      " ('LP_FAMILIE_GROB_4.0', -0.021600000000000001),\n",
      " ('KBA13_ANZAHL_PKW', -0.0212),\n",
      " ('HH_EINKOMMEN_SCORE', -0.020799999999999999),\n",
      " ('KBA05_GBZ', -0.020199999999999999),\n",
      " ('GFK_URLAUBERTYP_2.0', -0.019),\n",
      " ('LP_STATUS_GROB_1.0', -0.0189),\n",
      " ('KBA05_ANTG1', -0.0183),\n",
      " ('MIN_GEBAEUDEJAHR', -0.016299999999999999),\n",
      " ('FINANZTYP_2', -0.016299999999999999),\n",
      " ('HEALTH_TYP', -0.0154),\n",
      " ('CJT_GESAMTTYP_2.0', -0.0154),\n",
      " ('GFK_URLAUBERTYP_12.0', -0.013100000000000001),\n",
      " ('lifestage', -0.0129),\n",
      " ('CAMEO_DEUG_2015_3', -0.0124),\n",
      " ('KKK', -0.010699999999999999),\n",
      " ('KBA05_ANTG2', -0.0083999999999999995),\n",
      " ('CAMEO_DEUG_2015_2', -0.0067000000000000002),\n",
      " ('ANZ_PERSONEN', -0.0064999999999999997),\n",
      " ('GFK_URLAUBERTYP_11.0', -0.0061000000000000004),\n",
      " ('LP_FAMILIE_GROB_5.0', -0.0030000000000000001),\n",
      " ('REGIOTYP', -0.0022000000000000001),\n",
      " ('CAMEO_DEUG_2015_5', -0.0019),\n",
      " ('CAMEO_DEUG_2015_6', -0.0011000000000000001),\n",
      " ('SOHO_KZ', 0.00040000000000000002),\n",
      " ('GEBAEUDETYP_5.0', 0.00059999999999999995),\n",
      " ('GFK_URLAUBERTYP_10.0', 0.0011000000000000001),\n",
      " ('CAMEO_DEUG_2015_7', 0.0011000000000000001),\n",
      " ('GFK_URLAUBERTYP_1.0', 0.0019),\n",
      " ('GFK_URLAUBERTYP_3.0', 0.0023),\n",
      " ('GEBAEUDETYP_8.0', 0.0028999999999999998),\n",
      " ('GEBAEUDETYP_6.0', 0.0032000000000000002),\n",
      " ('KBA05_ANTG3', 0.0038),\n",
      " ('GEBAEUDETYP_4.0', 0.0041000000000000003),\n",
      " ('FINANZTYP_4', 0.0043),\n",
      " ('CJT_GESAMTTYP_3.0', 0.0051999999999999998),\n",
      " ('PLZ8_HHZ', 0.0053),\n",
      " ('CJT_GESAMTTYP_5.0', 0.0055999999999999999),\n",
      " ('LP_STATUS_GROB_4.0', 0.0057000000000000002),\n",
      " ('CAMEO_DEUG_2015_1', 0.0058999999999999999),\n",
      " ('GFK_URLAUBERTYP_8.0', 0.0061999999999999998),\n",
      " ('GEBAEUDETYP_2.0', 0.0061999999999999998),\n",
      " ('LP_FAMILIE_GROB_0.0', 0.0076),\n",
      " ('FINANZTYP_6', 0.0080000000000000002),\n",
      " ('GFK_URLAUBERTYP_7.0', 0.0082000000000000007),\n",
      " ('FINANZTYP_3', 0.0085000000000000006),\n",
      " ('ANZ_TITEL', 0.0101),\n",
      " ('GFK_URLAUBERTYP_5.0', 0.010699999999999999),\n",
      " ('VERS_TYP', 0.010800000000000001),\n",
      " ('GFK_URLAUBERTYP_6.0', 0.010800000000000001),\n",
      " ('OST_WEST_KZ', 0.0112),\n",
      " ('ANZ_HH_TITEL', 0.0123),\n",
      " ('CJT_GESAMTTYP_4.0', 0.012500000000000001),\n",
      " ('LP_FAMILIE_GROB_1.0', 0.012800000000000001),\n",
      " ('CAMEO_DEUG_2015_8', 0.014),\n",
      " ('CAMEO_DEUG_2015_9', 0.021499999999999998),\n",
      " ('ANZ_HAUSHALTE_AKTIV', 0.021600000000000001),\n",
      " ('KBA05_ANTG4', 0.0223),\n",
      " ('WOHNDAUER_2008', 0.022599999999999999),\n",
      " ('LP_FAMILIE_GROB_2.0', 0.0235),\n",
      " ('LP_STATUS_GROB_3.0', 0.024299999999999999),\n",
      " ('wealth', 0.0246),\n",
      " ('GEBAEUDETYP_3.0', 0.0252),\n",
      " ('CJT_GESAMTTYP_1.0', 0.027099999999999999),\n",
      " ('PLZ8_ANTG2', 0.027900000000000001),\n",
      " ('RELAT_AB', 0.029100000000000001),\n",
      " ('ARBEIT', 0.031600000000000003),\n",
      " ('GFK_URLAUBERTYP_4.0', 0.033099999999999997),\n",
      " ('LP_STATUS_GROB_5.0', 0.033099999999999997),\n",
      " ('SEMIO_LUST', 0.035999999999999997),\n",
      " ('ALTERSKATEGORIE_GROB', 0.037900000000000003),\n",
      " ('PLZ8_ANTG3', 0.040599999999999997),\n",
      " ('PLZ8_ANTG4', 0.041300000000000003),\n",
      " ('EWDICHTE', 0.044699999999999997),\n",
      " ('ORTSGR_KLS9', 0.045600000000000002),\n",
      " ('movement', 0.047100000000000003),\n",
      " ('GREEN_AVANTGARDE', 0.049299999999999997),\n",
      " ('SHOPPER_TYP_1.0', 0.054600000000000003),\n",
      " ('FINANZ_VORSORGER', 0.066500000000000004),\n",
      " ('SEMIO_MAT', 0.076100000000000001),\n",
      " ('W_KEIT_KIND_HH', 0.083900000000000002),\n",
      " ('RETOURTYP_BK_S', 0.085400000000000004),\n",
      " ('SEMIO_REL', 0.1008),\n",
      " ('SHOPPER_TYP_0.0', 0.13),\n",
      " ('FINANZTYP_5', 0.13700000000000001),\n",
      " ('FINANZ_MINIMALIST', 0.1376),\n",
      " ('SEMIO_KULT', 0.25069999999999998),\n",
      " ('SEMIO_FAM', 0.26079999999999998),\n",
      " ('SEMIO_SOZ', 0.26140000000000002),\n",
      " ('SEMIO_VERT', 0.33179999999999998)]\n"
     ]
    }
   ],
   "source": [
    "# Map weights for the third principal component to corresponding feature names\n",
    "# and then print the linked values, sorted by weight.\n",
    "\n",
    "pca_results(azdias_fin, pcaF, 2)"
   ]
  },
  {
   "cell_type": "markdown",
   "metadata": {},
   "source": [
    "### Discussion 2.3: Interpret Principal Components\n",
    "\n",
    "### 1. First PC\n",
    "**Top negative:**  \n",
    "- MOBI_REGIO - Movement patterns (higher = lower movement)\n",
    "- FINANZ_MINIMALIST - Financial typology, for each dimension - lower financial interest (higher = lower chances)\n",
    "- KBA05_ANTG1 - Number of 1-2 family houses in the microcell (higher = higher share of 1-2 family homes)\n",
    "- PLZ8_ANTG1 - Number of 1-2 family houses in the PLZ8 region (higher = higher share of 1-2 family homes)\n",
    "- KBA05_GBZ - Number of buildings in the microcell (higher = more buildings) \n",
    "\n",
    "**Top positive:**  \n",
    "- LP_STATUS_GROB_1.0 - Social status, rough scale (1 = low income, higher = more chance of poor)\n",
    "- PLZ8_ANTG3 - Number of 6-10 family houses in the PLZ8 region (higher = higher share of 6-10 family homes)\n",
    "- wealth - (higher = poorer)\n",
    "- HH_EINKOMMEN_SCORE - Estimated household net income (higher = lower income)\n",
    "- PLZ8_ANTG4 - Number of 10+ family houses in the PLZ8 region (higher = higher share of 10+ family homes)\n",
    "\n",
    "**Conclusion**\n",
    "This PCA seems to be one that indicates a combination of economic status and density of family homes in the area of interest. Negative values indicate areas with a high share of 1-2 family homes (less densely populated), whereas positive values indicate poorer consumers in regions with higher densities of family homes. The former segment is more prone to mail order as they are in areas where stores are less accessible than densely populated areas, and are more likely to have more economic power (translating into spending).\n",
    "\n",
    "### 2. Second PC\n",
    "**Top negative:**  \n",
    "- decade: Higher values indicate younger people (i.e. dominating movement of youth)  \n",
    "- FINANZ_SPARER: The money-spending tendencies (higher = lower tendency to save)  \n",
    "- SEMIO_REL: Religious scale (higher = lower religious affinity)  \n",
    "- FINANZ_UNAUFFAELLIGER: Inconspicuous spending tendencies (higher = flashier spending)  \n",
    "- SEMIO_TRADV: Tradition-minded (higher = lower affinity for tradition)  \n",
    "- SEMIO_PFLICHT: Dutifulness (higher = less sense of duty)  \n",
    "\n",
    "**Top positive:**  \n",
    "- ALTERSKATEGORIE_GROB: Higher = older  \n",
    "- FINANZ_VORSORGER: Preparedness (Higher = lower)  \n",
    "- SEMIO_ERL: event-oriented (higher = lower affinity)  \n",
    "- SEMIO_LUST: dreamful (higher = less dreamful)  \n",
    "- RETOURTYP_BK_S: determined Minimal-Returner (higher = bigger saver)  \n",
    "- W_KEIT_KIND_HH likelihood of children in household (higher = unlikely)  \n",
    "\n",
    "**Conclusion**\n",
    "At a high level, this principal component seems to indicate demographics for consumer types, centered on age. The negative features collectively trend toward younger people who tend to be higher, flashier spenders with little that holds them back (e.g. tradition, religion, dutifulness), whereas the positive features describe older consumers - who tend to be big savers, and tend to lead a mundane, low-key spending style (not event-oriented, not too dreamful).\n",
    "\n",
    "This clearly seems like a major indicator to predicting core customers for our client's mail-order campaigns.\n",
    "\n",
    "### 3. Third PC\n",
    "**Top negative:**  \n",
    "- ANREDE_KZ: Gender (higher = female)  \n",
    "- SEMIO_KAEM: Combative attitude (higher = lower)  \n",
    "- SEMIO_DOM: Dominant-minded (higher = lower)  \n",
    "- SEMIO_KRIT: Critical-minded (higher = lower)  \n",
    "- SEMIO_ERL: Event-oriented (higher = lower)  \n",
    "\n",
    "**Top positive:**  \n",
    "- SEMIO_VERT: Dreamful (higher = lower)  \n",
    "- SEMIO_SOZ: Socially-minded (higher = lower)  \n",
    "- SEMIO_FAM: Family-minded (higher = lower)  \n",
    "- SEMIO_KULT: Cultural-minded (higher = lower)  \n",
    "\n",
    "**Conclusion**\n",
    "At a high level, this principal component seems to indicate attitudes/mindset of a consumer. The negative features describe females that are women who are benign & friendly in nature, whereas the positive features describe a fairly gloom & introverted mindset (perhaps even anti-social). This also seems to be a great indicator to gauging consumers' receptiveness to mail-order campaigns."
   ]
  },
  {
   "cell_type": "markdown",
   "metadata": {},
   "source": [
    "## Step 3: Clustering\n",
    "\n",
    "### Step 3.1: Apply Clustering to General Population\n",
    "\n",
    "You've assessed and cleaned the demographics data, then scaled and transformed them. Now, it's time to see how the data clusters in the principal components space. In this substep, you will apply k-means clustering to the dataset and use the average within-cluster distances from each point to their assigned cluster's centroid to decide on a number of clusters to keep.\n",
    "\n",
    "- Use sklearn's [KMeans](http://scikit-learn.org/stable/modules/generated/sklearn.cluster.KMeans.html#sklearn.cluster.KMeans) class to perform k-means clustering on the PCA-transformed data.\n",
    "- Then, compute the average difference from each point to its assigned cluster's center. **Hint**: The KMeans object's `.score()` method might be useful here, but note that in sklearn, scores tend to be defined so that larger is better. Try applying it to a small, toy dataset, or use an internet search to help your understanding.\n",
    "- Perform the above two steps for a number of different cluster counts. You can then see how the average distance decreases with an increasing number of clusters. However, each additional cluster provides a smaller net benefit. Use this fact to select a final number of clusters in which to group the data. **Warning**: because of the large size of the dataset, it can take a long time for the algorithm to resolve. The more clusters to fit, the longer the algorithm will take. You should test for cluster counts through at least 10 clusters to get the full picture, but you shouldn't need to test for a number of clusters above about 30.\n",
    "- Once you've selected a final number of clusters to use, re-fit a KMeans instance to perform the clustering operation. Make sure that you also obtain the cluster assignments for the general demographics data, since you'll be using them in the final Step 3.3."
   ]
  },
  {
   "cell_type": "code",
   "execution_count": 115,
   "metadata": {},
   "outputs": [],
   "source": [
    "from sklearn.cluster import KMeans"
   ]
  },
  {
   "cell_type": "code",
   "execution_count": 116,
   "metadata": {},
   "outputs": [],
   "source": [
    "def get_kmeans_score(data, center):\n",
    "    # instantiate k-means\n",
    "    kmeans = KMeans(center, random_state=2)\n",
    "    \n",
    "    model = kmeans.fit(data)\n",
    "    \n",
    "    score = np.abs(model.score(data))\n",
    "    \n",
    "    return score"
   ]
  },
  {
   "cell_type": "code",
   "execution_count": 117,
   "metadata": {},
   "outputs": [],
   "source": [
    "scores = []\n",
    "centers = list(range(1,15))\n",
    "\n",
    "# Over a number of different cluster counts...\n",
    "# run k-means clustering on the data and...\n",
    "# compute the average within-cluster distances.\n",
    "for center in centers:\n",
    "    scores.append(get_kmeans_score(X_pcaF, center))"
   ]
  },
  {
   "cell_type": "code",
   "execution_count": 118,
   "metadata": {},
   "outputs": [
    {
     "data": {
      "text/plain": [
       "Text(0.5,1,'SSE vs K')"
      ]
     },
     "execution_count": 118,
     "metadata": {},
     "output_type": "execute_result"
    },
    {
     "data": {
      "image/png": "[encoded data removed]",
      "text/plain": [
       "<matplotlib.figure.Figure at 0x7f0ed8f54320>"
      ]
     },
     "metadata": {
      "needs_background": "light"
     },
     "output_type": "display_data"
    }
   ],
   "source": [
    "# Investigate the change in within-cluster distance across number of clusters.\n",
    "# HINT: Use matplotlib's plot function to visualize this relationship.\n",
    "plt.plot(centers, scores, linestyle=\"--\", marker=\"o\", color=\"b\");\n",
    "plt.xlabel('K')\n",
    "plt.ylabel('SSE')\n",
    "plt.title(\"SSE vs K\")"
   ]
  },
  {
   "cell_type": "code",
   "execution_count": 119,
   "metadata": {},
   "outputs": [],
   "source": [
    "# Re-fit the k-means model with the selected number of clusters and obtain\n",
    "# cluster predictions for the general population demographics data.\n",
    "\n",
    "kmeans_fin = KMeans(10, random_state=2)\n",
    "model_fin = kmeans_fin.fit(X_pcaF)\n",
    "pred_fin = model_fin.predict(X_pcaF)"
   ]
  },
  {
   "cell_type": "markdown",
   "metadata": {},
   "source": [
    "### Discussion 3.1: Apply Clustering to General Population\n",
    "\n",
    "I decided to use 10 cluster to segment the population. Based on the relationship (SSE vs K), the \"elbow\" occurs somewhere between a K of 5 and 10, and based on my assessment, becomes linear at K = 10."
   ]
  },
  {
   "cell_type": "markdown",
   "metadata": {},
   "source": [
    "### Step 3.2: Apply All Steps to the Customer Data\n",
    "\n",
    "Now that you have clusters and cluster centers for the general population, it's time to see how the customer data maps on to those clusters. Take care to not confuse this for re-fitting all of the models to the customer data. Instead, you're going to use the fits from the general population to clean, transform, and cluster the customer data. In the last step of the project, you will interpret how the general population fits apply to the customer data.\n",
    "\n",
    "- Don't forget when loading in the customers data, that it is semicolon (`;`) delimited.\n",
    "- Apply the same feature wrangling, selection, and engineering steps to the customer demographics using the `clean_data()` function you created earlier. (You can assume that the customer demographics data has similar meaning behind missing data patterns as the general demographics data.)\n",
    "- Use the sklearn objects from the general demographics data, and apply their transformations to the customers data. That is, you should not be using a `.fit()` or `.fit_transform()` method to re-fit the old objects, nor should you be creating new sklearn objects! Carry the data through the feature scaling, PCA, and clustering steps, obtaining cluster assignments for all of the data in the customer demographics data."
   ]
  },
  {
   "cell_type": "code",
   "execution_count": 120,
   "metadata": {},
   "outputs": [],
   "source": [
    "# Load in the customer demographics data.\n",
    "customers = pd.read_csv(\"Udacity_CUSTOMERS_Subset.csv\", sep=\";\")"
   ]
  },
  {
   "cell_type": "code",
   "execution_count": 121,
   "metadata": {},
   "outputs": [
    {
     "name": "stdout",
     "output_type": "stream",
     "text": [
      "NaN Conversion Done!\n"
     ]
    },
    {
     "data": {
      "image/png": "[encoded data removed]",
      "text/plain": [
       "<matplotlib.figure.Figure at 0x7f0fa0323c50>"
      ]
     },
     "metadata": {
      "needs_background": "light"
     },
     "output_type": "display_data"
    },
    {
     "name": "stdout",
     "output_type": "stream",
     "text": [
      "Outlier Missing Data Columns are:\n",
      "['AGER_TYP', 'KK_KUNDENTYP']\n",
      "Outlier columns removed. Shape is:\n",
      "(191652, 83)\n",
      "Outlier rows removed. Shape is:\n",
      "(141711, 83)\n",
      "OST_WEST_KZ replaced.\n",
      "Categorical variables processed. New shape is:\n",
      "(141711, 124)\n",
      "decade feature generated.\n",
      "movement feature generated.\n",
      "wealth feature generated.\n",
      "lifestage feature generated.\n",
      "Dropping Mixed Categorical Variables:\n",
      "['LP_LEBENSPHASE_FEIN', 'LP_LEBENSPHASE_GROB', 'WOHNLAGE', 'KBA05_BAUMAX', 'PLZ8_BAUMAX']\n",
      "Mixed variables processed. New shape is:\n",
      "(141711, 121)\n",
      "False\n",
      "True\n"
     ]
    },
    {
     "data": {
      "image/png": "[encoded data removed]",
      "text/plain": [
       "<matplotlib.figure.Figure at 0x7f0efbdfc780>"
      ]
     },
     "metadata": {
      "needs_background": "light"
     },
     "output_type": "display_data"
    }
   ],
   "source": [
    "# Apply preprocessing, feature transformation, and clustering from the general\n",
    "# demographics onto the customer data, obtaining cluster predictions for the\n",
    "# customer demographics data.\n",
    "\n",
    "customers_fin = clean_data(customers)"
   ]
  },
  {
   "cell_type": "code",
   "execution_count": 122,
   "metadata": {},
   "outputs": [],
   "source": [
    "X_ss_C = ss.transform(customers_fin)\n",
    "\n",
    "pcaF_C, X_pcaF_C = do_pca(75, X_ss_C)\n",
    "\n",
    "# kmeans_fin_C = KMeans(10, random_state=30)\n",
    "# model_fin_C = kmeans_fin_C.fit(X_pcaF_C)\n",
    "# pred_fin_C = model_fin_C.predict(X_pcaF_C)\n",
    "pred_fin_C = model_fin.predict(X_pcaF_C)"
   ]
  },
  {
   "cell_type": "markdown",
   "metadata": {},
   "source": [
    "### Step 3.3: Compare Customer Data to Demographics Data\n",
    "\n",
    "At this point, you have clustered data based on demographics of the general population of Germany, and seen how the customer data for a mail-order sales company maps onto those demographic clusters. In this final substep, you will compare the two cluster distributions to see where the strongest customer base for the company is.\n",
    "\n",
    "Consider the proportion of persons in each cluster for the general population, and the proportions for the customers. If we think the company's customer base to be universal, then the cluster assignment proportions should be fairly similar between the two. If there are only particular segments of the population that are interested in the company's products, then we should see a mismatch from one to the other. If there is a higher proportion of persons in a cluster for the customer data compared to the general population (e.g. 5% of persons are assigned to a cluster for the general population, but 15% of the customer data is closest to that cluster's centroid) then that suggests the people in that cluster to be a target audience for the company. On the other hand, the proportion of the data in a cluster being larger in the general population than the customer data (e.g. only 2% of customers closest to a population centroid that captures 6% of the data) suggests that group of persons to be outside of the target demographics.\n",
    "\n",
    "Take a look at the following points in this step:\n",
    "\n",
    "- Compute the proportion of data points in each cluster for the general population and the customer data. Visualizations will be useful here: both for the individual dataset proportions, but also to visualize the ratios in cluster representation between groups. Seaborn's [`countplot()`](https://seaborn.pydata.org/generated/seaborn.countplot.html) or [`barplot()`](https://seaborn.pydata.org/generated/seaborn.barplot.html) function could be handy.\n",
    "  - Recall the analysis you performed in step 1.1.3 of the project, where you separated out certain data points from the dataset if they had more than a specified threshold of missing values. If you found that this group was qualitatively different from the main bulk of the data, you should treat this as an additional data cluster in this analysis. Make sure that you account for the number of data points in this subset, for both the general population and customer datasets, when making your computations!\n",
    "- Which cluster or clusters are overrepresented in the customer dataset compared to the general population? Select at least one such cluster and infer what kind of people might be represented by that cluster. Use the principal component interpretations from step 2.3 or look at additional components to help you make this inference. Alternatively, you can use the `.inverse_transform()` method of the PCA and StandardScaler objects to transform centroids back to the original data space and interpret the retrieved values directly.\n",
    "- Perform a similar investigation for the underrepresented clusters. Which cluster or clusters are underrepresented in the customer dataset compared to the general population, and what kinds of people are typified by these clusters?"
   ]
  },
  {
   "cell_type": "code",
   "execution_count": 123,
   "metadata": {},
   "outputs": [],
   "source": [
    "def clusterDist(clusCounts, totalCounts):\n",
    "    for clusNo, clusCount in clusCounts:\n",
    "        print(str(clusNo) + \" - {:.0%}\".format(clusCount/totalCounts))"
   ]
  },
  {
   "cell_type": "code",
   "execution_count": 124,
   "metadata": {},
   "outputs": [],
   "source": [
    "def plotClusters(pred_gen, pred_cust):\n",
    "    fig, ax =plt.subplots(1,2)\n",
    "    sns.countplot(pred_gen, ax=ax[0])\n",
    "    sns.countplot(pred_cust, ax=ax[1])\n",
    "    fig.show()"
   ]
  },
  {
   "cell_type": "code",
   "execution_count": 125,
   "metadata": {},
   "outputs": [
    {
     "name": "stdout",
     "output_type": "stream",
     "text": [
      "General Population Clusters:\n",
      "0 - 10%\n",
      "1 - 6%\n",
      "2 - 7%\n",
      "3 - 9%\n",
      "4 - 11%\n",
      "5 - 5%\n",
      "6 - 10%\n",
      "7 - 11%\n",
      "8 - 11%\n",
      "9 - 9%\n",
      "<zip object at 0x7f0f022e9348>\n",
      "Customer Population Clusters:\n",
      "0 - 0%\n",
      "1 - 28%\n",
      "3 - 30%\n",
      "5 - 5%\n",
      "6 - 0%\n",
      "7 - 11%\n",
      "8 - 0%\n"
     ]
    },
    {
     "name": "stderr",
     "output_type": "stream",
     "text": [
      "/opt/conda/lib/python3.6/site-packages/matplotlib/figure.py:418: UserWarning: matplotlib is currently using a non-GUI backend, so cannot show the figure\n",
      "  \"matplotlib is currently using a non-GUI backend, \"\n"
     ]
    },
    {
     "data": {
      "image/png": "[encoded data removed]",
      "text/plain": [
       "<matplotlib.figure.Figure at 0x7f0fa026f080>"
      ]
     },
     "metadata": {
      "needs_background": "light"
     },
     "output_type": "display_data"
    }
   ],
   "source": [
    "# Compare the proportion of data in each cluster for the customer data to the\n",
    "# proportion of data in each cluster for the general population.\n",
    "\n",
    "# Compute general population cluster proportions\n",
    "y_gen = np.bincount(pred_fin)\n",
    "ii_gen = np.nonzero(y_gen)[0]\n",
    "clusCounts_gen = zip(ii_gen,y_gen[ii_gen])\n",
    "\n",
    "totalCount_gen = len(pred_fin) + outClustCount_gen\n",
    "\n",
    "print(\"General Population Clusters:\")\n",
    "clusterDist(clusCounts_gen, totalCount_gen)\n",
    "\n",
    "# Compute customer cluster proportions\n",
    "y_cust = np.bincount(pred_fin_C)\n",
    "ii_cust = np.nonzero(y_cust)[0]\n",
    "clusCounts_cust = zip(ii_cust,y_cust[ii_cust])\n",
    "print(clusCounts_cust)\n",
    "\n",
    "outClustCount_cust = 191652 - 141711\n",
    "totalCount_cust = len(pred_fin_C) + outClustCount_cust\n",
    "\n",
    "print(\"Customer Population Clusters:\")\n",
    "clusterDist(clusCounts_cust, totalCount_cust)\n",
    "\n",
    "plotClusters(pred_fin, pred_fin_C)"
   ]
  },
  {
   "cell_type": "code",
   "execution_count": 126,
   "metadata": {},
   "outputs": [],
   "source": [
    "from mpl_toolkits.mplot3d import Axes3D\n",
    "\n",
    "def plot_data(data, labels):\n",
    "    '''\n",
    "    Plot data with colors associated with labels\n",
    "    '''\n",
    "    fig = plt.figure();\n",
    "    ax = Axes3D(fig)\n",
    "    ax.scatter(data[:, 0], data[:, 1], data[:, 2], c=labels, cmap='tab10');"
   ]
  },
  {
   "cell_type": "code",
   "execution_count": 139,
   "metadata": {},
   "outputs": [
    {
     "name": "stdout",
     "output_type": "stream",
     "text": [
      "[ -2.42507911e+00  -5.82269030e-01  -5.33820344e-01  -2.60355932e-01\n",
      "  -2.09006708e-01  -1.79350798e-01  -1.59821260e-01  -1.50942861e-01\n",
      "  -1.42192316e-01  -1.31734938e-01  -1.20230184e-01  -9.06059260e-02\n",
      "  -8.70484764e-02  -7.84911936e-02  -7.78643272e-02  -7.29940567e-02\n",
      "  -6.60365253e-02  -5.50698393e-02  -4.94010799e-02  -4.28335636e-02\n",
      "  -4.24390246e-02  -4.11562219e-02  -3.76220400e-02  -3.57914920e-02\n",
      "  -3.51497625e-02  -3.43939353e-02  -2.96231723e-02  -1.41084743e-02\n",
      "  -9.77260759e-03  -9.34822032e-03  -8.33667640e-03  -8.28577850e-03\n",
      "  -3.90734770e-03  -4.70454519e-04   1.18689785e-03   4.40209534e-03\n",
      "   8.07846578e-03   1.11596499e-02   1.79150299e-02   2.01836243e-02\n",
      "   2.13773689e-02   2.20298640e-02   2.46441546e-02   3.39568933e-02\n",
      "   3.51272528e-02   3.58777558e-02   3.71786007e-02   4.49283444e-02\n",
      "   5.38891551e-02   6.17425188e-02   6.19025279e-02   6.40649151e-02\n",
      "   6.72588712e-02   7.05429874e-02   7.35061870e-02   8.16218325e-02\n",
      "   8.45460736e-02   8.49366516e-02   8.88393014e-02   9.37008409e-02\n",
      "   1.04026885e-01   1.08317410e-01   1.10287296e-01   1.10624476e-01\n",
      "   1.11836250e-01   1.15101595e-01   1.18216830e-01   1.20306322e-01\n",
      "   1.43215020e-01   2.02023950e-01   2.06042167e-01   2.43518617e-01\n",
      "   3.03451976e-01   2.73410881e+00   4.72194097e+00]\n",
      "[ 1 11 17 52 10 25 63 58 19  3 49 35 14 29 60 27 37 41 32 31 68 73 43 47 54\n",
      " 72 46 66 70 44 65 74 34 40 71  6 51  5 64 45 67 39 36 50 21 56 55  7 48 69\n",
      " 23 24 26 61 53 38 62 33 59 57  8  4 42 30 13 20 18 28 22 16 15 12  9  2  0]\n"
     ]
    }
   ],
   "source": [
    "import copy\n",
    "\n",
    "res = model_fin.__dict__\n",
    "\n",
    "# print(res['cluster_centers_'][2])\n",
    "\n",
    "clus2_sorted = copy.deepcopy(res['cluster_centers_'][2])\n",
    "clus2_sorted_featNo = np.argsort(clus2_sorted)\n",
    "clus2_sorted = np.sort(clus2_sorted)\n",
    "\n",
    "print(clus2_sorted)\n",
    "print(clus2_sorted_featNo)\n",
    "\n",
    "# plot_data(X_pcaF_C, pred_fin_C)"
   ]
  },
  {
   "cell_type": "markdown",
   "metadata": {},
   "source": [
    "### What kinds of people are part of a cluster that is overrepresented in the customer data compared to the general population?  \n",
    "\n",
    "The second cluster (Cluster #1 in chart above) seems to be somewhat overrepresented in the customer dataset relative to the general population.  \n",
    "\n",
    "When we dig into the weightings of the PCA features, the biggest positive predictors for this seems to be the First & Third PC (positive) and Second PC (negative). Going back to our interpretation in Section 2.3, we deemed these to be characterized by:  \n",
    "1. Indicate consumers with less economic power in regions with higher densities of family homes. [Driven by positive First PC]  \n",
    "2. Fairly gloom & introverted mindset (perhaps even anti-social) [Driven by positive Third PC]\n",
    "3. Younger people who tend to be higher, flashier spenders with little that holds them back (e.g. tradition, religion, dutifulness) [Driven by negative Second PC]"
   ]
  },
  {
   "cell_type": "code",
   "execution_count": 140,
   "metadata": {},
   "outputs": [
    {
     "name": "stdout",
     "output_type": "stream",
     "text": [
      "[ -3.45855899e+00  -1.89470814e+00  -4.42099488e-01  -3.96302992e-01\n",
      "  -3.96233700e-01  -2.77111891e-01  -2.65904614e-01  -1.53420003e-01\n",
      "  -1.46987894e-01  -1.42112312e-01  -1.27674942e-01  -1.20997111e-01\n",
      "  -1.08505957e-01  -1.03329205e-01  -9.01933814e-02  -8.45125440e-02\n",
      "  -8.43198559e-02  -8.15481799e-02  -7.31674430e-02  -6.75406485e-02\n",
      "  -6.31328338e-02  -6.24132295e-02  -6.19502552e-02  -5.73856491e-02\n",
      "  -5.46702019e-02  -4.37799849e-02  -4.31236594e-02  -4.06958630e-02\n",
      "  -3.34556795e-02  -3.17651364e-02  -2.91806894e-02  -2.45797076e-02\n",
      "  -2.33937663e-02  -2.27751979e-02  -1.97188304e-02  -1.67124396e-02\n",
      "  -1.20743945e-02  -7.44547648e-03  -3.51834676e-03  -5.16289855e-04\n",
      "   5.45918553e-03   7.79817623e-03   7.89215321e-03   1.32204213e-02\n",
      "   1.39024441e-02   1.66207721e-02   2.30930443e-02   2.37336085e-02\n",
      "   2.40438263e-02   2.59603758e-02   2.60890293e-02   2.74317699e-02\n",
      "   2.82272603e-02   4.19566202e-02   5.10923734e-02   5.15658202e-02\n",
      "   5.85493723e-02   5.99868562e-02   6.56792745e-02   7.14899443e-02\n",
      "   7.16103313e-02   8.35099130e-02   8.79597915e-02   8.96856818e-02\n",
      "   9.42289261e-02   9.80041425e-02   1.74562278e-01   2.07976381e-01\n",
      "   2.21372527e-01   2.37350422e-01   2.41212750e-01   2.97575603e-01\n",
      "   3.57257768e-01   3.97344087e-01   1.89836957e+00]\n",
      "[ 0  3 17  9 12  7 52 66 68 15 26 16 13 27 20 32 33 18 69 54 58 60 63 49 71\n",
      " 35 51  6 37 38 22 43 39 72 30 40 44 70 46 29 41 45 50 62 53 47 34 61 57 74\n",
      " 48 24 64 42 73 31 67 23 25 56 28 59 21 36 55 19 10 65  1 11  5  8 14  4  2]\n"
     ]
    }
   ],
   "source": [
    "clus0_sorted = copy.deepcopy(res['cluster_centers_'][0])\n",
    "# print(clus0_sorted)\n",
    "clus0_sorted_featNo = np.argsort(clus0_sorted)\n",
    "clus0_sorted = np.sort(clus0_sorted)\n",
    "\n",
    "print(clus0_sorted)\n",
    "print(clus0_sorted_featNo)"
   ]
  },
  {
   "cell_type": "markdown",
   "metadata": {},
   "source": [
    "### What kinds of people are part of a cluster that is underrepresented in the customer data compared to the general population?\n",
    "\n",
    "The first cluster (Cluster 0 in above chart) seems to be underrepresented in the customer data relative to the general population, implying that this cluster of the general population is most likely not a target segment for our client's mail-order campaigns.\n",
    "1. First PC (negative) - Live in areas with a high share of 1-2 family homes (less densely populated).\n",
    "2. Third PC (positive) - Fairly gloom & introverted mindset (perhaps even anti-social)."
   ]
  },
  {
   "cell_type": "markdown",
   "metadata": {},
   "source": [
    "### Discussion 3.3: Compare Customer Data to Demographics Data\n",
    "\n",
    "Can we describe segments of the population that are relatively popular with the mail-order company, or relatively unpopular with the company?  \n",
    "\n",
    "Our analysis helps us describe segments of the population that are relatively popular & unpopular with the company. Those that are heavily represented in the customer da Specifically:  \n",
    "\n",
    "**1. Popular**  \n",
    "Consumers with medium-to-low economic power in densely populated regions (most likely bigger cities), with a fairly gloom/introverted mindset, with high spending habits.\n",
    "\n",
    "**2. Unpopular**  \n",
    "Consumers with fairly gloom & introverted mindsets "
   ]
  },
  {
   "cell_type": "markdown",
   "metadata": {},
   "source": [
    "> Congratulations on making it this far in the project! Before you finish, make sure to check through the entire notebook from top to bottom to make sure that your analysis follows a logical flow and all of your findings are documented in **Discussion** cells. Once you've checked over all of your work, you should export the notebook as an HTML document to submit for evaluation. You can do this from the menu, navigating to **File -> Download as -> HTML (.html)**. You will submit both that document and this notebook for your project submission."
   ]
  },
  {
   "cell_type": "code",
   "execution_count": null,
   "metadata": {},
   "outputs": [],
   "source": []
  },
  {
   "cell_type": "code",
   "execution_count": null,
   "metadata": {},
   "outputs": [],
   "source": []
  }
 ],
 "metadata": {
  "kernelspec": {
   "display_name": "Python 3",
   "language": "python",
   "name": "python3"
  },
  "language_info": {
   "codemirror_mode": {
    "name": "ipython",
    "version": 3
   },
   "file_extension": ".py",
   "mimetype": "text/x-python",
   "name": "python",
   "nbconvert_exporter": "python",
   "pygments_lexer": "ipython3",
   "version": "3.6.3"
  }
 },
 "nbformat": 4,
 "nbformat_minor": 2
}
